{
 "cells": [
  {
   "cell_type": "code",
   "execution_count": 0,
   "metadata": {
    "colab": {},
    "colab_type": "code",
    "id": "SkDE4JL6v0bH"
   },
   "outputs": [],
   "source": [
    "import pandas as pd\n",
    "import random\n",
    "import numpy as np\n",
    "import matplotlib.pyplot as plt\n",
    "from tqdm import tqdm\n",
    "%matplotlib inline"
   ]
  },
  {
   "cell_type": "code",
   "execution_count": 2,
   "metadata": {
    "colab": {
     "base_uri": "https://localhost:8080/",
     "height": 233
    },
    "colab_type": "code",
    "executionInfo": {
     "elapsed": 3032,
     "status": "ok",
     "timestamp": 1542040388819,
     "user": {
      "displayName": "Serhii Lehkyi",
      "photoUrl": "https://lh3.googleusercontent.com/-qassuiEDJBU/AAAAAAAAAAI/AAAAAAAALJ8/PaeC0MtgnoQ/s64/photo.jpg",
      "userId": "14713728991309101865"
     },
     "user_tz": -60
    },
    "id": "puODnyYTwdQQ",
    "outputId": "1860e764-b969-47d5-b0ca-c8488952d4bf"
   },
   "outputs": [
    {
     "data": {
      "text/html": [
       "<div>\n",
       "<style scoped>\n",
       "    .dataframe tbody tr th:only-of-type {\n",
       "        vertical-align: middle;\n",
       "    }\n",
       "\n",
       "    .dataframe tbody tr th {\n",
       "        vertical-align: top;\n",
       "    }\n",
       "\n",
       "    .dataframe thead th {\n",
       "        text-align: right;\n",
       "    }\n",
       "</style>\n",
       "<table border=\"1\" class=\"dataframe\">\n",
       "  <thead>\n",
       "    <tr style=\"text-align: right;\">\n",
       "      <th></th>\n",
       "      <th>0</th>\n",
       "      <th>1</th>\n",
       "      <th>2</th>\n",
       "      <th>3</th>\n",
       "      <th>4</th>\n",
       "      <th>5</th>\n",
       "      <th>6</th>\n",
       "      <th>7</th>\n",
       "      <th>8</th>\n",
       "      <th>9</th>\n",
       "      <th>...</th>\n",
       "      <th>775</th>\n",
       "      <th>776</th>\n",
       "      <th>777</th>\n",
       "      <th>778</th>\n",
       "      <th>779</th>\n",
       "      <th>780</th>\n",
       "      <th>781</th>\n",
       "      <th>782</th>\n",
       "      <th>783</th>\n",
       "      <th>784</th>\n",
       "    </tr>\n",
       "  </thead>\n",
       "  <tbody>\n",
       "    <tr>\n",
       "      <th>0</th>\n",
       "      <td>6</td>\n",
       "      <td>0</td>\n",
       "      <td>0</td>\n",
       "      <td>0</td>\n",
       "      <td>0</td>\n",
       "      <td>0</td>\n",
       "      <td>0</td>\n",
       "      <td>0</td>\n",
       "      <td>0</td>\n",
       "      <td>0</td>\n",
       "      <td>...</td>\n",
       "      <td>0</td>\n",
       "      <td>0</td>\n",
       "      <td>0</td>\n",
       "      <td>0</td>\n",
       "      <td>0</td>\n",
       "      <td>0</td>\n",
       "      <td>0</td>\n",
       "      <td>0</td>\n",
       "      <td>0</td>\n",
       "      <td>0</td>\n",
       "    </tr>\n",
       "    <tr>\n",
       "      <th>1</th>\n",
       "      <td>5</td>\n",
       "      <td>0</td>\n",
       "      <td>0</td>\n",
       "      <td>0</td>\n",
       "      <td>0</td>\n",
       "      <td>0</td>\n",
       "      <td>0</td>\n",
       "      <td>0</td>\n",
       "      <td>0</td>\n",
       "      <td>0</td>\n",
       "      <td>...</td>\n",
       "      <td>0</td>\n",
       "      <td>0</td>\n",
       "      <td>0</td>\n",
       "      <td>0</td>\n",
       "      <td>0</td>\n",
       "      <td>0</td>\n",
       "      <td>0</td>\n",
       "      <td>0</td>\n",
       "      <td>0</td>\n",
       "      <td>0</td>\n",
       "    </tr>\n",
       "    <tr>\n",
       "      <th>2</th>\n",
       "      <td>7</td>\n",
       "      <td>0</td>\n",
       "      <td>0</td>\n",
       "      <td>0</td>\n",
       "      <td>0</td>\n",
       "      <td>0</td>\n",
       "      <td>0</td>\n",
       "      <td>0</td>\n",
       "      <td>0</td>\n",
       "      <td>0</td>\n",
       "      <td>...</td>\n",
       "      <td>0</td>\n",
       "      <td>0</td>\n",
       "      <td>0</td>\n",
       "      <td>0</td>\n",
       "      <td>0</td>\n",
       "      <td>0</td>\n",
       "      <td>0</td>\n",
       "      <td>0</td>\n",
       "      <td>0</td>\n",
       "      <td>0</td>\n",
       "    </tr>\n",
       "    <tr>\n",
       "      <th>3</th>\n",
       "      <td>9</td>\n",
       "      <td>0</td>\n",
       "      <td>0</td>\n",
       "      <td>0</td>\n",
       "      <td>0</td>\n",
       "      <td>0</td>\n",
       "      <td>0</td>\n",
       "      <td>0</td>\n",
       "      <td>0</td>\n",
       "      <td>0</td>\n",
       "      <td>...</td>\n",
       "      <td>0</td>\n",
       "      <td>0</td>\n",
       "      <td>0</td>\n",
       "      <td>0</td>\n",
       "      <td>0</td>\n",
       "      <td>0</td>\n",
       "      <td>0</td>\n",
       "      <td>0</td>\n",
       "      <td>0</td>\n",
       "      <td>0</td>\n",
       "    </tr>\n",
       "    <tr>\n",
       "      <th>4</th>\n",
       "      <td>5</td>\n",
       "      <td>0</td>\n",
       "      <td>0</td>\n",
       "      <td>0</td>\n",
       "      <td>0</td>\n",
       "      <td>0</td>\n",
       "      <td>0</td>\n",
       "      <td>0</td>\n",
       "      <td>0</td>\n",
       "      <td>0</td>\n",
       "      <td>...</td>\n",
       "      <td>0</td>\n",
       "      <td>0</td>\n",
       "      <td>0</td>\n",
       "      <td>0</td>\n",
       "      <td>0</td>\n",
       "      <td>0</td>\n",
       "      <td>0</td>\n",
       "      <td>0</td>\n",
       "      <td>0</td>\n",
       "      <td>0</td>\n",
       "    </tr>\n",
       "  </tbody>\n",
       "</table>\n",
       "<p>5 rows × 785 columns</p>\n",
       "</div>"
      ],
      "text/plain": [
       "   0    1    2    3    4    5    6    7    8    9   ...   775  776  777  778  \\\n",
       "0    6    0    0    0    0    0    0    0    0    0 ...     0    0    0    0   \n",
       "1    5    0    0    0    0    0    0    0    0    0 ...     0    0    0    0   \n",
       "2    7    0    0    0    0    0    0    0    0    0 ...     0    0    0    0   \n",
       "3    9    0    0    0    0    0    0    0    0    0 ...     0    0    0    0   \n",
       "4    5    0    0    0    0    0    0    0    0    0 ...     0    0    0    0   \n",
       "\n",
       "   779  780  781  782  783  784  \n",
       "0    0    0    0    0    0    0  \n",
       "1    0    0    0    0    0    0  \n",
       "2    0    0    0    0    0    0  \n",
       "3    0    0    0    0    0    0  \n",
       "4    0    0    0    0    0    0  \n",
       "\n",
       "[5 rows x 785 columns]"
      ]
     },
     "execution_count": 2,
     "metadata": {
      "tags": []
     },
     "output_type": "execute_result"
    }
   ],
   "source": [
    "# load data\n",
    "df = pd.read_csv('sample_data/mnist_train_small.csv', header=None)\n",
    "df.head()"
   ]
  },
  {
   "cell_type": "code",
   "execution_count": 3,
   "metadata": {
    "colab": {
     "base_uri": "https://localhost:8080/",
     "height": 34
    },
    "colab_type": "code",
    "executionInfo": {
     "elapsed": 665,
     "status": "ok",
     "timestamp": 1542040389530,
     "user": {
      "displayName": "Serhii Lehkyi",
      "photoUrl": "https://lh3.googleusercontent.com/-qassuiEDJBU/AAAAAAAAAAI/AAAAAAAALJ8/PaeC0MtgnoQ/s64/photo.jpg",
      "userId": "14713728991309101865"
     },
     "user_tz": -60
    },
    "id": "LVQ7iNr-wg6c",
    "outputId": "8b9d23a5-f152-4087-df89-fb34fd73b548"
   },
   "outputs": [
    {
     "data": {
      "text/plain": [
       "20000"
      ]
     },
     "execution_count": 3,
     "metadata": {
      "tags": []
     },
     "output_type": "execute_result"
    }
   ],
   "source": [
    "len(df)"
   ]
  },
  {
   "cell_type": "code",
   "execution_count": 4,
   "metadata": {
    "colab": {
     "base_uri": "https://localhost:8080/",
     "height": 299
    },
    "colab_type": "code",
    "executionInfo": {
     "elapsed": 1042,
     "status": "ok",
     "timestamp": 1542040390711,
     "user": {
      "displayName": "Serhii Lehkyi",
      "photoUrl": "https://lh3.googleusercontent.com/-qassuiEDJBU/AAAAAAAAAAI/AAAAAAAALJ8/PaeC0MtgnoQ/s64/photo.jpg",
      "userId": "14713728991309101865"
     },
     "user_tz": -60
    },
    "id": "pNIgMOb0wrbU",
    "outputId": "65bb2fc2-f1ad-4ac3-9c74-8e33cb421d4f"
   },
   "outputs": [
    {
     "name": "stdout",
     "output_type": "stream",
     "text": [
      "label: 1\n"
     ]
    },
    {
     "data": {
      "text/plain": [
       "<matplotlib.image.AxesImage at 0x7ff7c8c05cf8>"
      ]
     },
     "execution_count": 4,
     "metadata": {
      "tags": []
     },
     "output_type": "execute_result"
    },
    {
     "data": {
      "image/png": "[encoded data removed]",
      "text/plain": [
       "<matplotlib.figure.Figure at 0x7ff7c8cf0438>"
      ]
     },
     "metadata": {
      "tags": []
     },
     "output_type": "display_data"
    }
   ],
   "source": [
    "ix = random.randint(0, len(df)-1)\n",
    "label, pixels = df.loc[ix][0], df.loc[ix][1:]\n",
    "img = np.array(pixels).reshape((28,28))\n",
    "print('label: ' + str(label))\n",
    "plt.imshow(img)"
   ]
  },
  {
   "cell_type": "code",
   "execution_count": 5,
   "metadata": {
    "colab": {
     "base_uri": "https://localhost:8080/",
     "height": 204
    },
    "colab_type": "code",
    "executionInfo": {
     "elapsed": 3810,
     "status": "ok",
     "timestamp": 1542040394562,
     "user": {
      "displayName": "Serhii Lehkyi",
      "photoUrl": "https://lh3.googleusercontent.com/-qassuiEDJBU/AAAAAAAAAAI/AAAAAAAALJ8/PaeC0MtgnoQ/s64/photo.jpg",
      "userId": "14713728991309101865"
     },
     "user_tz": -60
    },
    "id": "dCzMb3QZw4Ew",
    "outputId": "798c2824-7f2a-4d09-ad48-ae076a712924"
   },
   "outputs": [
    {
     "data": {
      "text/html": [
       "<div>\n",
       "<style scoped>\n",
       "    .dataframe tbody tr th:only-of-type {\n",
       "        vertical-align: middle;\n",
       "    }\n",
       "\n",
       "    .dataframe tbody tr th {\n",
       "        vertical-align: top;\n",
       "    }\n",
       "\n",
       "    .dataframe thead th {\n",
       "        text-align: right;\n",
       "    }\n",
       "</style>\n",
       "<table border=\"1\" class=\"dataframe\">\n",
       "  <thead>\n",
       "    <tr style=\"text-align: right;\">\n",
       "      <th></th>\n",
       "      <th>img</th>\n",
       "      <th>label</th>\n",
       "    </tr>\n",
       "  </thead>\n",
       "  <tbody>\n",
       "    <tr>\n",
       "      <th>0</th>\n",
       "      <td>[0, 0, 0, 0, 0, 0, 0, 0, 0, 0, 0, 0, 0, 0, 0, ...</td>\n",
       "      <td>6</td>\n",
       "    </tr>\n",
       "    <tr>\n",
       "      <th>1</th>\n",
       "      <td>[0, 0, 0, 0, 0, 0, 0, 0, 0, 0, 0, 0, 0, 0, 0, ...</td>\n",
       "      <td>5</td>\n",
       "    </tr>\n",
       "    <tr>\n",
       "      <th>2</th>\n",
       "      <td>[0, 0, 0, 0, 0, 0, 0, 0, 0, 0, 0, 0, 0, 0, 0, ...</td>\n",
       "      <td>7</td>\n",
       "    </tr>\n",
       "    <tr>\n",
       "      <th>3</th>\n",
       "      <td>[0, 0, 0, 0, 0, 0, 0, 0, 0, 0, 0, 0, 0, 0, 0, ...</td>\n",
       "      <td>9</td>\n",
       "    </tr>\n",
       "    <tr>\n",
       "      <th>4</th>\n",
       "      <td>[0, 0, 0, 0, 0, 0, 0, 0, 0, 0, 0, 0, 0, 0, 0, ...</td>\n",
       "      <td>5</td>\n",
       "    </tr>\n",
       "  </tbody>\n",
       "</table>\n",
       "</div>"
      ],
      "text/plain": [
       "                                                 img  label\n",
       "0  [0, 0, 0, 0, 0, 0, 0, 0, 0, 0, 0, 0, 0, 0, 0, ...      6\n",
       "1  [0, 0, 0, 0, 0, 0, 0, 0, 0, 0, 0, 0, 0, 0, 0, ...      5\n",
       "2  [0, 0, 0, 0, 0, 0, 0, 0, 0, 0, 0, 0, 0, 0, 0, ...      7\n",
       "3  [0, 0, 0, 0, 0, 0, 0, 0, 0, 0, 0, 0, 0, 0, 0, ...      9\n",
       "4  [0, 0, 0, 0, 0, 0, 0, 0, 0, 0, 0, 0, 0, 0, 0, ...      5"
      ]
     },
     "execution_count": 5,
     "metadata": {
      "tags": []
     },
     "output_type": "execute_result"
    }
   ],
   "source": [
    "# transforming df for easier manipulation\n",
    "labels, imgs = [], []\n",
    "for index, row in df.iterrows():\n",
    "    label, pixels = row[0], row[1:]\n",
    "    img = np.array(pixels)\n",
    "    labels.append(label)\n",
    "    imgs.append(img)\n",
    "df2 = pd.DataFrame({'label': labels, 'img': imgs})\n",
    "#df2 = df2[:10000]\n",
    "df2.head()"
   ]
  },
  {
   "cell_type": "code",
   "execution_count": 6,
   "metadata": {
    "colab": {
     "base_uri": "https://localhost:8080/",
     "height": 299
    },
    "colab_type": "code",
    "executionInfo": {
     "elapsed": 926,
     "status": "ok",
     "timestamp": 1542040395560,
     "user": {
      "displayName": "Serhii Lehkyi",
      "photoUrl": "https://lh3.googleusercontent.com/-qassuiEDJBU/AAAAAAAAAAI/AAAAAAAALJ8/PaeC0MtgnoQ/s64/photo.jpg",
      "userId": "14713728991309101865"
     },
     "user_tz": -60
    },
    "id": "srN0F_F1xTYG",
    "outputId": "6d563f60-f506-460a-bdb5-7b3b2a636d1c"
   },
   "outputs": [
    {
     "name": "stdout",
     "output_type": "stream",
     "text": [
      "label: 7\n"
     ]
    },
    {
     "data": {
      "text/plain": [
       "<matplotlib.image.AxesImage at 0x7ff7c61235f8>"
      ]
     },
     "execution_count": 6,
     "metadata": {
      "tags": []
     },
     "output_type": "execute_result"
    },
    {
     "data": {
      "image/png": "[encoded data removed]",
      "text/plain": [
       "<matplotlib.figure.Figure at 0x7ff7c8ca7be0>"
      ]
     },
     "metadata": {
      "tags": []
     },
     "output_type": "display_data"
    }
   ],
   "source": [
    "# checking images using new df structure\n",
    "ix = random.randint(0, len(df2)-1)\n",
    "img = df2.loc[ix].img.reshape((28,28))\n",
    "label = df2.loc[ix].label\n",
    "print('label: ' + str(label))\n",
    "plt.imshow(img)"
   ]
  },
  {
   "cell_type": "code",
   "execution_count": 7,
   "metadata": {
    "colab": {
     "base_uri": "https://localhost:8080/",
     "height": 34
    },
    "colab_type": "code",
    "executionInfo": {
     "elapsed": 1066,
     "status": "ok",
     "timestamp": 1542040396772,
     "user": {
      "displayName": "Serhii Lehkyi",
      "photoUrl": "https://lh3.googleusercontent.com/-qassuiEDJBU/AAAAAAAAAAI/AAAAAAAALJ8/PaeC0MtgnoQ/s64/photo.jpg",
      "userId": "14713728991309101865"
     },
     "user_tz": -60
    },
    "id": "HsHpeiGBx4B4",
    "outputId": "4ab8ff9f-f505-4ae7-e491-52a14f5e58dd"
   },
   "outputs": [
    {
     "name": "stdout",
     "output_type": "stream",
     "text": [
      "16000 4000\n"
     ]
    }
   ],
   "source": [
    "from sklearn.model_selection import train_test_split\n",
    "\n",
    "train_df, test_df = train_test_split(df2, test_size=0.2, shuffle=True)\n",
    "\n",
    "print(len(train_df), len(test_df))"
   ]
  },
  {
   "cell_type": "code",
   "execution_count": 8,
   "metadata": {
    "colab": {
     "base_uri": "https://localhost:8080/",
     "height": 204
    },
    "colab_type": "code",
    "executionInfo": {
     "elapsed": 967,
     "status": "ok",
     "timestamp": 1542040397884,
     "user": {
      "displayName": "Serhii Lehkyi",
      "photoUrl": "https://lh3.googleusercontent.com/-qassuiEDJBU/AAAAAAAAAAI/AAAAAAAALJ8/PaeC0MtgnoQ/s64/photo.jpg",
      "userId": "14713728991309101865"
     },
     "user_tz": -60
    },
    "id": "OXsT-FyOyDpD",
    "outputId": "5ecbfb8d-1765-4fc8-cfc1-ccb964ade91f"
   },
   "outputs": [
    {
     "data": {
      "text/html": [
       "<div>\n",
       "<style scoped>\n",
       "    .dataframe tbody tr th:only-of-type {\n",
       "        vertical-align: middle;\n",
       "    }\n",
       "\n",
       "    .dataframe tbody tr th {\n",
       "        vertical-align: top;\n",
       "    }\n",
       "\n",
       "    .dataframe thead th {\n",
       "        text-align: right;\n",
       "    }\n",
       "</style>\n",
       "<table border=\"1\" class=\"dataframe\">\n",
       "  <thead>\n",
       "    <tr style=\"text-align: right;\">\n",
       "      <th></th>\n",
       "      <th>img</th>\n",
       "      <th>label</th>\n",
       "    </tr>\n",
       "  </thead>\n",
       "  <tbody>\n",
       "    <tr>\n",
       "      <th>10255</th>\n",
       "      <td>[0, 0, 0, 0, 0, 0, 0, 0, 0, 0, 0, 0, 0, 0, 0, ...</td>\n",
       "      <td>5</td>\n",
       "    </tr>\n",
       "    <tr>\n",
       "      <th>5493</th>\n",
       "      <td>[0, 0, 0, 0, 0, 0, 0, 0, 0, 0, 0, 0, 0, 0, 0, ...</td>\n",
       "      <td>7</td>\n",
       "    </tr>\n",
       "    <tr>\n",
       "      <th>14666</th>\n",
       "      <td>[0, 0, 0, 0, 0, 0, 0, 0, 0, 0, 0, 0, 0, 0, 0, ...</td>\n",
       "      <td>5</td>\n",
       "    </tr>\n",
       "    <tr>\n",
       "      <th>17154</th>\n",
       "      <td>[0, 0, 0, 0, 0, 0, 0, 0, 0, 0, 0, 0, 0, 0, 0, ...</td>\n",
       "      <td>3</td>\n",
       "    </tr>\n",
       "    <tr>\n",
       "      <th>9005</th>\n",
       "      <td>[0, 0, 0, 0, 0, 0, 0, 0, 0, 0, 0, 0, 0, 0, 0, ...</td>\n",
       "      <td>6</td>\n",
       "    </tr>\n",
       "  </tbody>\n",
       "</table>\n",
       "</div>"
      ],
      "text/plain": [
       "                                                     img  label\n",
       "10255  [0, 0, 0, 0, 0, 0, 0, 0, 0, 0, 0, 0, 0, 0, 0, ...      5\n",
       "5493   [0, 0, 0, 0, 0, 0, 0, 0, 0, 0, 0, 0, 0, 0, 0, ...      7\n",
       "14666  [0, 0, 0, 0, 0, 0, 0, 0, 0, 0, 0, 0, 0, 0, 0, ...      5\n",
       "17154  [0, 0, 0, 0, 0, 0, 0, 0, 0, 0, 0, 0, 0, 0, 0, ...      3\n",
       "9005   [0, 0, 0, 0, 0, 0, 0, 0, 0, 0, 0, 0, 0, 0, 0, ...      6"
      ]
     },
     "execution_count": 8,
     "metadata": {
      "tags": []
     },
     "output_type": "execute_result"
    }
   ],
   "source": [
    "train_df.head()"
   ]
  },
  {
   "cell_type": "code",
   "execution_count": 0,
   "metadata": {
    "colab": {},
    "colab_type": "code",
    "id": "EhL8ddREyHu_"
   },
   "outputs": [],
   "source": [
    "# http://pytorch.org/\n",
    "from os.path import exists\n",
    "from wheel.pep425tags import get_abbr_impl, get_impl_ver, get_abi_tag\n",
    "platform = '{}{}-{}'.format(get_abbr_impl(), get_impl_ver(), get_abi_tag())\n",
    "cuda_output = !ldconfig -p|grep cudart.so|sed -e 's/.*\\.\\([0-9]*\\)\\.\\([0-9]*\\)$/cu\\1\\2/'\n",
    "accelerator = cuda_output[0] if exists('/dev/nvidia0') else 'cpu'\n",
    "\n",
    "!pip install -q http://download.pytorch.org/whl/{accelerator}/torch-0.4.1-{platform}-linux_x86_64.whl torchvision"
   ]
  },
  {
   "cell_type": "code",
   "execution_count": 10,
   "metadata": {
    "colab": {
     "base_uri": "https://localhost:8080/",
     "height": 34
    },
    "colab_type": "code",
    "executionInfo": {
     "elapsed": 994,
     "status": "ok",
     "timestamp": 1542040422116,
     "user": {
      "displayName": "Serhii Lehkyi",
      "photoUrl": "https://lh3.googleusercontent.com/-qassuiEDJBU/AAAAAAAAAAI/AAAAAAAALJ8/PaeC0MtgnoQ/s64/photo.jpg",
      "userId": "14713728991309101865"
     },
     "user_tz": -60
    },
    "id": "yAFZHCSnyRhu",
    "outputId": "3729df83-d8cf-4731-c1ea-492606cef62d"
   },
   "outputs": [
    {
     "name": "stdout",
     "output_type": "stream",
     "text": [
      "cpu\n"
     ]
    }
   ],
   "source": [
    "import torch\n",
    "device = torch.device(\"cuda:0\" if torch.cuda.is_available() else \"cpu\")\n",
    "print(device)"
   ]
  },
  {
   "cell_type": "code",
   "execution_count": 0,
   "metadata": {
    "colab": {},
    "colab_type": "code",
    "id": "YYxuxnOnyYf2"
   },
   "outputs": [],
   "source": [
    "# create torch dataset\n",
    "# definition of torch dataset? #TODO: research\n",
    "from torch.utils.data import Dataset\n",
    "\n",
    "class MNISTDataset(Dataset):\n",
    "  def __init__(self, imgs, labels):\n",
    "    super(MNISTDataset, self).__init__()\n",
    "    self.imgs = imgs\n",
    "    self.labels = labels\n",
    "    \n",
    "  def __len__(self):\n",
    "    return len(self.imgs)\n",
    "  \n",
    "  def __getitem__(self, ix):\n",
    "    img = self.imgs[ix]\n",
    "    label = self.labels[ix]\n",
    "    return torch.from_numpy(img).float(), label"
   ]
  },
  {
   "cell_type": "code",
   "execution_count": 12,
   "metadata": {
    "colab": {
     "base_uri": "https://localhost:8080/",
     "height": 34
    },
    "colab_type": "code",
    "executionInfo": {
     "elapsed": 659,
     "status": "ok",
     "timestamp": 1542040423759,
     "user": {
      "displayName": "Serhii Lehkyi",
      "photoUrl": "https://lh3.googleusercontent.com/-qassuiEDJBU/AAAAAAAAAAI/AAAAAAAALJ8/PaeC0MtgnoQ/s64/photo.jpg",
      "userId": "14713728991309101865"
     },
     "user_tz": -60
    },
    "id": "Mi_j-gAZy3mn",
    "outputId": "9a53015a-7f28-41d5-9121-ee71a2c1d475"
   },
   "outputs": [
    {
     "data": {
      "text/plain": [
       "16000"
      ]
     },
     "execution_count": 12,
     "metadata": {
      "tags": []
     },
     "output_type": "execute_result"
    }
   ],
   "source": [
    "dataset = {\n",
    "    'train': MNISTDataset(train_df.img.values, train_df.label.values),\n",
    "    'test': MNISTDataset(test_df.img.values, test_df.label.values)\n",
    "} \n",
    "\n",
    "len(dataset['train'])"
   ]
  },
  {
   "cell_type": "code",
   "execution_count": 13,
   "metadata": {
    "colab": {
     "base_uri": "https://localhost:8080/",
     "height": 316
    },
    "colab_type": "code",
    "executionInfo": {
     "elapsed": 1209,
     "status": "ok",
     "timestamp": 1542040425139,
     "user": {
      "displayName": "Serhii Lehkyi",
      "photoUrl": "https://lh3.googleusercontent.com/-qassuiEDJBU/AAAAAAAAAAI/AAAAAAAALJ8/PaeC0MtgnoQ/s64/photo.jpg",
      "userId": "14713728991309101865"
     },
     "user_tz": -60
    },
    "id": "KT6VmXA-zWPF",
    "outputId": "f41ca26f-71ce-473c-8901-7dd4be3dfdb1"
   },
   "outputs": [
    {
     "name": "stdout",
     "output_type": "stream",
     "text": [
      "torch.Size([784]) torch.float32\n",
      "5\n"
     ]
    },
    {
     "data": {
      "text/plain": [
       "<matplotlib.image.AxesImage at 0x7ff7bb47f0b8>"
      ]
     },
     "execution_count": 13,
     "metadata": {
      "tags": []
     },
     "output_type": "execute_result"
    },
    {
     "data": {
      "image/png": "[encoded data removed]",
      "text/plain": [
       "<matplotlib.figure.Figure at 0x7ff7bb4b37f0>"
      ]
     },
     "metadata": {
      "tags": []
     },
     "output_type": "display_data"
    }
   ],
   "source": [
    "# againg checking image, now based on torch dataset\n",
    "ix = random.randint(0, len(dataset['train'])-1)\n",
    "img, label = dataset['train'][ix]\n",
    "print(img.shape, img.dtype)\n",
    "print(label)\n",
    "plt.imshow(img.reshape((28,28)))"
   ]
  },
  {
   "cell_type": "code",
   "execution_count": 14,
   "metadata": {
    "colab": {
     "base_uri": "https://localhost:8080/",
     "height": 323
    },
    "colab_type": "code",
    "executionInfo": {
     "elapsed": 1016,
     "status": "ok",
     "timestamp": 1542040426201,
     "user": {
      "displayName": "Serhii Lehkyi",
      "photoUrl": "https://lh3.googleusercontent.com/-qassuiEDJBU/AAAAAAAAAAI/AAAAAAAALJ8/PaeC0MtgnoQ/s64/photo.jpg",
      "userId": "14713728991309101865"
     },
     "user_tz": -60
    },
    "id": "Kuzz2YBJzn9g",
    "outputId": "61ae1fde-844a-47fc-918f-3dd7f986f532"
   },
   "outputs": [
    {
     "data": {
      "text/plain": [
       "Sequential(\n",
       "  (0): Sequential(\n",
       "    (0): Linear(in_features=784, out_features=512, bias=True)\n",
       "    (1): BatchNorm1d(512, eps=1e-05, momentum=0.1, affine=True, track_running_stats=True)\n",
       "    (2): ReLU(inplace)\n",
       "  )\n",
       "  (1): Sequential(\n",
       "    (0): Linear(in_features=512, out_features=256, bias=True)\n",
       "    (1): BatchNorm1d(256, eps=1e-05, momentum=0.1, affine=True, track_running_stats=True)\n",
       "    (2): ReLU(inplace)\n",
       "  )\n",
       "  (2): Sequential(\n",
       "    (0): Linear(in_features=256, out_features=128, bias=True)\n",
       "    (1): BatchNorm1d(128, eps=1e-05, momentum=0.1, affine=True, track_running_stats=True)\n",
       "    (2): ReLU(inplace)\n",
       "  )\n",
       "  (3): Linear(in_features=128, out_features=10, bias=True)\n",
       ")"
      ]
     },
     "execution_count": 14,
     "metadata": {
      "tags": []
     },
     "output_type": "execute_result"
    }
   ],
   "source": [
    "# create model\n",
    "import torch.nn as nn\n",
    "\n",
    "def block(in_f, out_f):\n",
    "  return nn.Sequential(\n",
    "      nn.Linear(in_f, out_f),\n",
    "      nn.BatchNorm1d(out_f),\n",
    "      nn.ReLU(inplace=True),\n",
    "      #nn.Dropout(),\n",
    "  )\n",
    "\n",
    "model = nn.Sequential(\n",
    "  block(784,512),\n",
    "  block(512,256),\n",
    "  block(256,128),\n",
    "  nn.Linear(128, 10)\n",
    ")\n",
    "\n",
    "model.to(device)"
   ]
  },
  {
   "cell_type": "code",
   "execution_count": 0,
   "metadata": {
    "colab": {},
    "colab_type": "code",
    "id": "hRewbku5z1AW"
   },
   "outputs": [],
   "source": [
    "from torch.utils.data import DataLoader\n",
    "import torch.optim as optim\n",
    "from torch.optim.lr_scheduler import StepLR, ReduceLROnPlateau\n",
    "\n",
    "criterion = nn.CrossEntropyLoss()\n",
    "optimizer = optim.Adam(model.parameters(), lr=0.1)\n",
    "scheduler = ReduceLROnPlateau(optimizer, 'max', factor=0.1, patience=3, min_lr=0.0001, verbose=True)\n",
    "\n",
    "dataloader = {\n",
    "    'train': DataLoader(dataset['train'], batch_size=32, shuffle=True, num_workers=4),\n",
    "    'test': DataLoader(dataset['test'], batch_size=32, shuffle=False, num_workers=4),\n",
    "}"
   ]
  },
  {
   "cell_type": "code",
   "execution_count": 16,
   "metadata": {
    "colab": {
     "base_uri": "https://localhost:8080/",
     "height": 2788
    },
    "colab_type": "code",
    "executionInfo": {
     "elapsed": 674816,
     "status": "ok",
     "timestamp": 1542041101966,
     "user": {
      "displayName": "Serhii Lehkyi",
      "photoUrl": "https://lh3.googleusercontent.com/-qassuiEDJBU/AAAAAAAAAAI/AAAAAAAALJ8/PaeC0MtgnoQ/s64/photo.jpg",
      "userId": "14713728991309101865"
     },
     "user_tz": -60
    },
    "id": "dIdoHrWQ0E6C",
    "outputId": "c4dd6c41-4416-497c-ac41-93c329056545"
   },
   "outputs": [
    {
     "name": "stderr",
     "output_type": "stream",
     "text": [
      "100%|██████████| 500/500 [00:08<00:00, 59.59it/s]\n",
      "100%|██████████| 125/125 [00:00<00:00, 173.13it/s]\n",
      "  0%|          | 0/500 [00:00<?, ?it/s]"
     ]
    },
    {
     "name": "stdout",
     "output_type": "stream",
     "text": [
      "\n",
      " Best model ! saved.\n",
      "\n",
      " Epoch 1, Training loss: 0.534512, Val loss: 0.322474, Val acc: 0.912750\n"
     ]
    },
    {
     "name": "stderr",
     "output_type": "stream",
     "text": [
      "100%|██████████| 500/500 [00:14<00:00, 34.99it/s]\n",
      "100%|██████████| 125/125 [00:00<00:00, 166.27it/s]\n",
      "  0%|          | 0/500 [00:00<?, ?it/s]"
     ]
    },
    {
     "name": "stdout",
     "output_type": "stream",
     "text": [
      "\n",
      " Best model ! saved.\n",
      "\n",
      " Epoch 2, Training loss: 0.328471, Val loss: 0.209036, Val acc: 0.946750\n"
     ]
    },
    {
     "name": "stderr",
     "output_type": "stream",
     "text": [
      "100%|██████████| 500/500 [00:16<00:00, 30.18it/s]\n",
      "100%|██████████| 125/125 [00:00<00:00, 164.46it/s]\n",
      "  0%|          | 0/500 [00:00<?, ?it/s]"
     ]
    },
    {
     "name": "stdout",
     "output_type": "stream",
     "text": [
      "\n",
      " Epoch 3, Training loss: 0.259496, Val loss: 0.264894, Val acc: 0.927500\n"
     ]
    },
    {
     "name": "stderr",
     "output_type": "stream",
     "text": [
      "100%|██████████| 500/500 [00:18<00:00, 27.83it/s]\n",
      "100%|██████████| 125/125 [00:00<00:00, 150.43it/s]\n",
      "  0%|          | 0/500 [00:00<?, ?it/s]"
     ]
    },
    {
     "name": "stdout",
     "output_type": "stream",
     "text": [
      "\n",
      " Epoch 4, Training loss: 0.217841, Val loss: 0.214145, Val acc: 0.943750\n"
     ]
    },
    {
     "name": "stderr",
     "output_type": "stream",
     "text": [
      "100%|██████████| 500/500 [00:17<00:00, 28.26it/s]\n",
      "100%|██████████| 125/125 [00:00<00:00, 174.06it/s]\n",
      "  0%|          | 0/500 [00:00<?, ?it/s]"
     ]
    },
    {
     "name": "stdout",
     "output_type": "stream",
     "text": [
      "\n",
      " Best model ! saved.\n",
      "\n",
      " Epoch 5, Training loss: 0.201812, Val loss: 0.185450, Val acc: 0.949250\n"
     ]
    },
    {
     "name": "stderr",
     "output_type": "stream",
     "text": [
      "100%|██████████| 500/500 [00:17<00:00, 29.45it/s]\n",
      "100%|██████████| 125/125 [00:00<00:00, 172.19it/s]\n",
      "  0%|          | 0/500 [00:00<?, ?it/s]"
     ]
    },
    {
     "name": "stdout",
     "output_type": "stream",
     "text": [
      "\n",
      " Best model ! saved.\n",
      "\n",
      " Epoch 6, Training loss: 0.186579, Val loss: 0.186246, Val acc: 0.953250\n"
     ]
    },
    {
     "name": "stderr",
     "output_type": "stream",
     "text": [
      "100%|██████████| 500/500 [00:17<00:00, 28.88it/s]\n",
      "100%|██████████| 125/125 [00:00<00:00, 173.37it/s]\n",
      "  0%|          | 0/500 [00:00<?, ?it/s]"
     ]
    },
    {
     "name": "stdout",
     "output_type": "stream",
     "text": [
      "\n",
      " Epoch 7, Training loss: 0.155304, Val loss: 0.209035, Val acc: 0.944750\n"
     ]
    },
    {
     "name": "stderr",
     "output_type": "stream",
     "text": [
      "100%|██████████| 500/500 [00:17<00:00, 27.83it/s]\n",
      "100%|██████████| 125/125 [00:00<00:00, 174.60it/s]\n",
      "  0%|          | 0/500 [00:00<?, ?it/s]"
     ]
    },
    {
     "name": "stdout",
     "output_type": "stream",
     "text": [
      "\n",
      " Epoch 8, Training loss: 0.144107, Val loss: 0.257484, Val acc: 0.948000\n"
     ]
    },
    {
     "name": "stderr",
     "output_type": "stream",
     "text": [
      "100%|██████████| 500/500 [00:18<00:00, 27.34it/s]\n",
      "100%|██████████| 125/125 [00:00<00:00, 172.96it/s]\n",
      "  0%|          | 0/500 [00:00<?, ?it/s]"
     ]
    },
    {
     "name": "stdout",
     "output_type": "stream",
     "text": [
      "\n",
      " Best model ! saved.\n",
      "\n",
      " Epoch 9, Training loss: 0.153265, Val loss: 0.163909, Val acc: 0.961250\n"
     ]
    },
    {
     "name": "stderr",
     "output_type": "stream",
     "text": [
      "100%|██████████| 500/500 [00:18<00:00, 27.02it/s]\n",
      "100%|██████████| 125/125 [00:00<00:00, 173.03it/s]\n",
      "  0%|          | 0/500 [00:00<?, ?it/s]"
     ]
    },
    {
     "name": "stdout",
     "output_type": "stream",
     "text": [
      "\n",
      " Epoch 10, Training loss: 0.129769, Val loss: 0.190650, Val acc: 0.958500\n"
     ]
    },
    {
     "name": "stderr",
     "output_type": "stream",
     "text": [
      "100%|██████████| 500/500 [00:18<00:00, 26.91it/s]\n",
      "100%|██████████| 125/125 [00:00<00:00, 171.55it/s]\n",
      "  0%|          | 0/500 [00:00<?, ?it/s]"
     ]
    },
    {
     "name": "stdout",
     "output_type": "stream",
     "text": [
      "\n",
      " Epoch 11, Training loss: 0.140383, Val loss: 0.188405, Val acc: 0.958000\n"
     ]
    },
    {
     "name": "stderr",
     "output_type": "stream",
     "text": [
      "100%|██████████| 500/500 [00:18<00:00, 26.71it/s]\n",
      "100%|██████████| 125/125 [00:00<00:00, 174.51it/s]\n",
      "  0%|          | 0/500 [00:00<?, ?it/s]"
     ]
    },
    {
     "name": "stdout",
     "output_type": "stream",
     "text": [
      "\n",
      " Epoch 12, Training loss: 0.123966, Val loss: 0.198522, Val acc: 0.954750\n"
     ]
    },
    {
     "name": "stderr",
     "output_type": "stream",
     "text": [
      "100%|██████████| 500/500 [00:18<00:00, 26.58it/s]\n",
      "100%|██████████| 125/125 [00:00<00:00, 178.82it/s]\n",
      "  0%|          | 0/500 [00:00<?, ?it/s]"
     ]
    },
    {
     "name": "stdout",
     "output_type": "stream",
     "text": [
      "Epoch    12: reducing learning rate of group 0 to 1.0000e-02.\n",
      "\n",
      " Epoch 13, Training loss: 0.124794, Val loss: 0.207284, Val acc: 0.959250\n"
     ]
    },
    {
     "name": "stderr",
     "output_type": "stream",
     "text": [
      "100%|██████████| 500/500 [00:19<00:00, 26.17it/s]\n",
      "100%|██████████| 125/125 [00:00<00:00, 175.80it/s]\n",
      "  0%|          | 0/500 [00:00<?, ?it/s]"
     ]
    },
    {
     "name": "stdout",
     "output_type": "stream",
     "text": [
      "\n",
      " Best model ! saved.\n",
      "\n",
      " Epoch 14, Training loss: 0.057628, Val loss: 0.157566, Val acc: 0.965750\n"
     ]
    },
    {
     "name": "stderr",
     "output_type": "stream",
     "text": [
      "100%|██████████| 500/500 [00:19<00:00, 25.96it/s]\n",
      "100%|██████████| 125/125 [00:00<00:00, 169.13it/s]\n",
      "  0%|          | 0/500 [00:00<?, ?it/s]"
     ]
    },
    {
     "name": "stdout",
     "output_type": "stream",
     "text": [
      "\n",
      " Best model ! saved.\n",
      "\n",
      " Epoch 15, Training loss: 0.038763, Val loss: 0.141579, Val acc: 0.969000\n"
     ]
    },
    {
     "name": "stderr",
     "output_type": "stream",
     "text": [
      "100%|██████████| 500/500 [00:19<00:00, 25.93it/s]\n",
      "100%|██████████| 125/125 [00:00<00:00, 172.29it/s]\n",
      "  0%|          | 0/500 [00:00<?, ?it/s]"
     ]
    },
    {
     "name": "stdout",
     "output_type": "stream",
     "text": [
      "\n",
      " Best model ! saved.\n",
      "\n",
      " Epoch 16, Training loss: 0.034263, Val loss: 0.142151, Val acc: 0.969500\n"
     ]
    },
    {
     "name": "stderr",
     "output_type": "stream",
     "text": [
      "100%|██████████| 500/500 [00:19<00:00, 25.87it/s]\n",
      "100%|██████████| 125/125 [00:00<00:00, 166.91it/s]\n",
      "  0%|          | 0/500 [00:00<?, ?it/s]"
     ]
    },
    {
     "name": "stdout",
     "output_type": "stream",
     "text": [
      "\n",
      " Best model ! saved.\n",
      "\n",
      " Epoch 17, Training loss: 0.029956, Val loss: 0.134928, Val acc: 0.971750\n"
     ]
    },
    {
     "name": "stderr",
     "output_type": "stream",
     "text": [
      "100%|██████████| 500/500 [00:19<00:00, 25.95it/s]\n",
      "100%|██████████| 125/125 [00:00<00:00, 153.76it/s]\n",
      "  0%|          | 0/500 [00:00<?, ?it/s]"
     ]
    },
    {
     "name": "stdout",
     "output_type": "stream",
     "text": [
      "\n",
      " Epoch 18, Training loss: 0.025603, Val loss: 0.140055, Val acc: 0.971500\n"
     ]
    },
    {
     "name": "stderr",
     "output_type": "stream",
     "text": [
      "100%|██████████| 500/500 [00:19<00:00, 26.03it/s]\n",
      "100%|██████████| 125/125 [00:00<00:00, 176.00it/s]\n",
      "  0%|          | 0/500 [00:00<?, ?it/s]"
     ]
    },
    {
     "name": "stdout",
     "output_type": "stream",
     "text": [
      "\n",
      " Epoch 19, Training loss: 0.021748, Val loss: 0.150656, Val acc: 0.971250\n"
     ]
    },
    {
     "name": "stderr",
     "output_type": "stream",
     "text": [
      "100%|██████████| 500/500 [00:20<00:00, 24.90it/s]\n",
      "100%|██████████| 125/125 [00:00<00:00, 145.64it/s]\n",
      "  0%|          | 0/500 [00:00<?, ?it/s]"
     ]
    },
    {
     "name": "stdout",
     "output_type": "stream",
     "text": [
      "\n",
      " Epoch 20, Training loss: 0.022106, Val loss: 0.149522, Val acc: 0.970500\n"
     ]
    },
    {
     "name": "stderr",
     "output_type": "stream",
     "text": [
      "100%|██████████| 500/500 [00:19<00:00, 25.67it/s]\n",
      "100%|██████████| 125/125 [00:00<00:00, 172.14it/s]\n",
      "  0%|          | 0/500 [00:00<?, ?it/s]"
     ]
    },
    {
     "name": "stdout",
     "output_type": "stream",
     "text": [
      "Epoch    20: reducing learning rate of group 0 to 1.0000e-03.\n",
      "\n",
      " Epoch 21, Training loss: 0.018569, Val loss: 0.150352, Val acc: 0.970250\n"
     ]
    },
    {
     "name": "stderr",
     "output_type": "stream",
     "text": [
      "100%|██████████| 500/500 [00:19<00:00, 25.97it/s]\n",
      "100%|██████████| 125/125 [00:00<00:00, 175.78it/s]\n",
      "  0%|          | 0/500 [00:00<?, ?it/s]"
     ]
    },
    {
     "name": "stdout",
     "output_type": "stream",
     "text": [
      "\n",
      " Epoch 22, Training loss: 0.014630, Val loss: 0.151768, Val acc: 0.971750\n"
     ]
    },
    {
     "name": "stderr",
     "output_type": "stream",
     "text": [
      "100%|██████████| 500/500 [00:19<00:00, 25.96it/s]\n",
      "100%|██████████| 125/125 [00:00<00:00, 165.03it/s]\n",
      "  0%|          | 0/500 [00:00<?, ?it/s]"
     ]
    },
    {
     "name": "stdout",
     "output_type": "stream",
     "text": [
      "\n",
      " Epoch 23, Training loss: 0.014620, Val loss: 0.144805, Val acc: 0.971750\n"
     ]
    },
    {
     "name": "stderr",
     "output_type": "stream",
     "text": [
      "100%|██████████| 500/500 [00:19<00:00, 25.98it/s]\n",
      "100%|██████████| 125/125 [00:00<00:00, 172.24it/s]\n",
      "  0%|          | 0/500 [00:00<?, ?it/s]"
     ]
    },
    {
     "name": "stdout",
     "output_type": "stream",
     "text": [
      "\n",
      " Epoch 24, Training loss: 0.014841, Val loss: 0.150933, Val acc: 0.970750\n"
     ]
    },
    {
     "name": "stderr",
     "output_type": "stream",
     "text": [
      "100%|██████████| 500/500 [00:19<00:00, 25.92it/s]\n",
      "100%|██████████| 125/125 [00:00<00:00, 164.33it/s]\n",
      "  0%|          | 0/500 [00:00<?, ?it/s]"
     ]
    },
    {
     "name": "stdout",
     "output_type": "stream",
     "text": [
      "\n",
      " Best model ! saved.\n",
      "\n",
      " Epoch 25, Training loss: 0.012287, Val loss: 0.148000, Val acc: 0.973500\n"
     ]
    },
    {
     "name": "stderr",
     "output_type": "stream",
     "text": [
      "100%|██████████| 500/500 [00:19<00:00, 25.85it/s]\n",
      "100%|██████████| 125/125 [00:00<00:00, 131.78it/s]\n",
      "  0%|          | 0/500 [00:00<?, ?it/s]"
     ]
    },
    {
     "name": "stdout",
     "output_type": "stream",
     "text": [
      "\n",
      " Epoch 26, Training loss: 0.012438, Val loss: 0.154150, Val acc: 0.971500\n"
     ]
    },
    {
     "name": "stderr",
     "output_type": "stream",
     "text": [
      "100%|██████████| 500/500 [00:19<00:00, 25.84it/s]\n",
      "100%|██████████| 125/125 [00:00<00:00, 172.45it/s]\n",
      "  0%|          | 0/500 [00:00<?, ?it/s]"
     ]
    },
    {
     "name": "stdout",
     "output_type": "stream",
     "text": [
      "\n",
      " Epoch 27, Training loss: 0.013748, Val loss: 0.148070, Val acc: 0.971000\n"
     ]
    },
    {
     "name": "stderr",
     "output_type": "stream",
     "text": [
      "100%|██████████| 500/500 [00:19<00:00, 25.78it/s]\n",
      "100%|██████████| 125/125 [00:00<00:00, 165.82it/s]\n",
      "  0%|          | 0/500 [00:00<?, ?it/s]"
     ]
    },
    {
     "name": "stdout",
     "output_type": "stream",
     "text": [
      "\n",
      " Epoch 28, Training loss: 0.011424, Val loss: 0.157474, Val acc: 0.970500\n"
     ]
    },
    {
     "name": "stderr",
     "output_type": "stream",
     "text": [
      "100%|██████████| 500/500 [00:19<00:00, 25.93it/s]\n",
      "100%|██████████| 125/125 [00:00<00:00, 177.21it/s]\n",
      "  0%|          | 0/500 [00:00<?, ?it/s]"
     ]
    },
    {
     "name": "stdout",
     "output_type": "stream",
     "text": [
      "Epoch    28: reducing learning rate of group 0 to 1.0000e-04.\n",
      "\n",
      " Epoch 29, Training loss: 0.011768, Val loss: 0.145952, Val acc: 0.972000\n"
     ]
    },
    {
     "name": "stderr",
     "output_type": "stream",
     "text": [
      "100%|██████████| 500/500 [00:19<00:00, 25.95it/s]\n",
      "100%|██████████| 125/125 [00:00<00:00, 163.58it/s]\n",
      "  0%|          | 0/500 [00:00<?, ?it/s]"
     ]
    },
    {
     "name": "stdout",
     "output_type": "stream",
     "text": [
      "\n",
      " Epoch 30, Training loss: 0.010749, Val loss: 0.148356, Val acc: 0.971250\n"
     ]
    },
    {
     "name": "stderr",
     "output_type": "stream",
     "text": [
      "100%|██████████| 500/500 [00:19<00:00, 25.85it/s]\n",
      "100%|██████████| 125/125 [00:00<00:00, 175.57it/s]\n",
      "  0%|          | 0/500 [00:00<?, ?it/s]"
     ]
    },
    {
     "name": "stdout",
     "output_type": "stream",
     "text": [
      "\n",
      " Epoch 31, Training loss: 0.013788, Val loss: 0.158037, Val acc: 0.971250\n"
     ]
    },
    {
     "name": "stderr",
     "output_type": "stream",
     "text": [
      "100%|██████████| 500/500 [00:19<00:00, 25.73it/s]\n",
      "100%|██████████| 125/125 [00:00<00:00, 166.26it/s]\n",
      "  0%|          | 0/500 [00:00<?, ?it/s]"
     ]
    },
    {
     "name": "stdout",
     "output_type": "stream",
     "text": [
      "\n",
      " Epoch 32, Training loss: 0.014149, Val loss: 0.153336, Val acc: 0.971750\n"
     ]
    },
    {
     "name": "stderr",
     "output_type": "stream",
     "text": [
      "100%|██████████| 500/500 [00:19<00:00, 25.92it/s]\n",
      "100%|██████████| 125/125 [00:00<00:00, 169.38it/s]\n",
      "  0%|          | 0/500 [00:00<?, ?it/s]"
     ]
    },
    {
     "name": "stdout",
     "output_type": "stream",
     "text": [
      "\n",
      " Epoch 33, Training loss: 0.013277, Val loss: 0.149593, Val acc: 0.971750\n"
     ]
    },
    {
     "name": "stderr",
     "output_type": "stream",
     "text": [
      "100%|██████████| 500/500 [00:19<00:00, 25.96it/s]\n",
      "100%|██████████| 125/125 [00:00<00:00, 178.10it/s]\n",
      "  0%|          | 0/500 [00:00<?, ?it/s]"
     ]
    },
    {
     "name": "stdout",
     "output_type": "stream",
     "text": [
      "\n",
      " Epoch 34, Training loss: 0.012356, Val loss: 0.151306, Val acc: 0.970750\n"
     ]
    },
    {
     "name": "stderr",
     "output_type": "stream",
     "text": [
      "100%|██████████| 500/500 [00:19<00:00, 25.32it/s]\n",
      "100%|██████████| 125/125 [00:00<00:00, 167.40it/s]"
     ]
    },
    {
     "name": "stdout",
     "output_type": "stream",
     "text": [
      "\n",
      " Best model with acc: 0.9735\n"
     ]
    },
    {
     "name": "stderr",
     "output_type": "stream",
     "text": [
      "\n"
     ]
    }
   ],
   "source": [
    "# train\n",
    "best_acc, stop, early_stop = 0, 0, 10\n",
    "for e in range(100):\n",
    "    \n",
    "  model.train()\n",
    "  total_loss = []\n",
    "  for imgs, labels in tqdm(dataloader['train']):\n",
    "    imgs, labels = imgs.to(device), labels.to(device)\n",
    "    preds = model(imgs)\n",
    "    optimizer.zero_grad()\n",
    "    loss = criterion(preds, labels)\n",
    "    loss.backward()\n",
    "    optimizer.step()\n",
    "    total_loss.append(loss.data)\n",
    "    \n",
    "  model.eval()\n",
    "  val_loss, acc = [], 0.\n",
    "  with torch.no_grad():\n",
    "    for imgs, labels in tqdm(dataloader['test']):\n",
    "      imgs, labels = imgs.to(device), labels.to(device)\n",
    "      preds = model(imgs)\n",
    "      loss = criterion(preds, labels)\n",
    "      val_loss.append(loss.data)\n",
    "      _, preds = torch.max(preds, 1)\n",
    "      acc += (preds == labels).sum().item()\n",
    "      \n",
    "  acc /= len(dataset['test'])\n",
    "  if acc > best_acc:\n",
    "    print('\\n Best model ! saved.')\n",
    "    torch.save(model.state_dict(), 'best_model.pt')\n",
    "    best_acc = acc\n",
    "    stop = -1\n",
    "  \n",
    "  stop += 1\n",
    "  if stop >= early_stop:\n",
    "    break\n",
    "    \n",
    "  scheduler.step(acc)\n",
    "    \n",
    "  print('\\n Epoch {}, Training loss: {:4f}, Val loss: {:4f}, Val acc: {:4f}'.format(\n",
    "      e+1, np.array(total_loss).mean(), np.array(val_loss).mean(), acc))\n",
    "  \n",
    "print('\\n Best model with acc: {}'.format(best_acc))"
   ]
  },
  {
   "cell_type": "code",
   "execution_count": 17,
   "metadata": {
    "colab": {
     "base_uri": "https://localhost:8080/",
     "height": 299
    },
    "colab_type": "code",
    "executionInfo": {
     "elapsed": 935,
     "status": "ok",
     "timestamp": 1542041103000,
     "user": {
      "displayName": "Serhii Lehkyi",
      "photoUrl": "https://lh3.googleusercontent.com/-qassuiEDJBU/AAAAAAAAAAI/AAAAAAAALJ8/PaeC0MtgnoQ/s64/photo.jpg",
      "userId": "14713728991309101865"
     },
     "user_tz": -60
    },
    "id": "1H_ytEgU0UWe",
    "outputId": "d8f14ed2-2c1e-4097-c747-afa11f2a512c"
   },
   "outputs": [
    {
     "name": "stdout",
     "output_type": "stream",
     "text": [
      "Ground Truth: 6, Prediction: 6\n"
     ]
    },
    {
     "data": {
      "text/plain": [
       "<matplotlib.image.AxesImage at 0x7ff7c616a320>"
      ]
     },
     "execution_count": 17,
     "metadata": {
      "tags": []
     },
     "output_type": "execute_result"
    },
    {
     "data": {
      "image/png": "[encoded data removed]",
      "text/plain": [
       "<matplotlib.figure.Figure at 0x7ff7bb47f5c0>"
      ]
     },
     "metadata": {
      "tags": []
     },
     "output_type": "display_data"
    }
   ],
   "source": [
    "# test\n",
    "model.load_state_dict(torch.load('best_model.pt'))\n",
    "model.to(device)\n",
    "model.eval()\n",
    "\n",
    "ix = random.randint(0, len(dataset['test'])-1)\n",
    "img, label = dataset['test'][ix]\n",
    "pred = model(img.unsqueeze(0).to(device)).cpu()\n",
    "pred_label = torch.argmax(pred)\n",
    "print('Ground Truth: {}, Prediction: {}'.format(label, pred_label))\n",
    "plt.imshow(img.reshape((28,28)))"
   ]
  }
 ],
 "metadata": {
  "colab": {
   "name": "digit-recognizer.ipynb",
   "provenance": [],
   "version": "0.3.2"
  },
  "kernelspec": {
   "display_name": "Python 3",
   "language": "python",
   "name": "python3"
  },
  "language_info": {
   "codemirror_mode": {
    "name": "ipython",
    "version": 3
   },
   "file_extension": ".py",
   "mimetype": "text/x-python",
   "name": "python",
   "nbconvert_exporter": "python",
   "pygments_lexer": "ipython3",
   "version": "3.6.3"
  }
 },
 "nbformat": 4,
 "nbformat_minor": 1
}
