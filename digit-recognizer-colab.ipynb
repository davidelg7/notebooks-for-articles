{
 "cells": [
  {
   "cell_type": "markdown",
   "metadata": {
    "id": "uF-2i5GRwOe1",
    "colab_type": "text"
   },
   "source": [
    "Digit recognition is not something that difficult or advanced. It is kind of \"Hello world!\" program - not that cool, but you start exactly here. So I decided to share my work and at the same time refresh the knowledge - it's being a long ago I played with images.\n",
    "\n",
    "---"
   ]
  },
  {
   "cell_type": "markdown",
   "metadata": {
    "id": "xlsMEe_Tvuki",
    "colab_type": "text"
   },
   "source": [
    "We start with importing all the necessary packages."
   ]
  },
  {
   "cell_type": "code",
   "execution_count": 0,
   "metadata": {
    "id": "SkDE4JL6v0bH",
    "colab_type": "code",
    "colab": {}
   },
   "outputs": [],
   "source": [
    "import pandas as pd\n",
    "import random\n",
    "import numpy as np\n",
    "import matplotlib.pyplot as plt\n",
    "from tqdm import tqdm\n",
    "%matplotlib inline"
   ]
  },
  {
   "cell_type": "markdown",
   "metadata": {
    "id": "UEhh9O7WxSz7",
    "colab_type": "text"
   },
   "source": [
    "MNIST dataset, which contains 20 thousand hand-written digits is a \"Hello World\" dataset for this task, it is already preloaded in Colaboratory (cloud-based Python notebooks, fantastic thing), so we will use it. No need to invent a wheel here. "
   ]
  },
  {
   "cell_type": "code",
   "execution_count": 2,
   "metadata": {
    "id": "puODnyYTwdQQ",
    "colab_type": "code",
    "outputId": "e035f475-cc5e-48ce-e83d-1c2d16dddfda",
    "executionInfo": {
     "status": "ok",
     "timestamp": 1.54217342261E12,
     "user_tz": -60.0,
     "elapsed": 2670.0,
     "user": {
      "displayName": "Serhii Lehkyi",
      "photoUrl": "https://lh3.googleusercontent.com/-qassuiEDJBU/AAAAAAAAAAI/AAAAAAAALJ8/PaeC0MtgnoQ/s64/photo.jpg",
      "userId": "14713728991309101865"
     }
    },
    "colab": {
     "base_uri": "https://localhost:8080/",
     "height": 233.0
    }
   },
   "outputs": [
    {
     "data": {
      "text/html": [
       "<div>\n",
       "<style scoped>\n",
       "    .dataframe tbody tr th:only-of-type {\n",
       "        vertical-align: middle;\n",
       "    }\n",
       "\n",
       "    .dataframe tbody tr th {\n",
       "        vertical-align: top;\n",
       "    }\n",
       "\n",
       "    .dataframe thead th {\n",
       "        text-align: right;\n",
       "    }\n",
       "</style>\n",
       "<table border=\"1\" class=\"dataframe\">\n",
       "  <thead>\n",
       "    <tr style=\"text-align: right;\">\n",
       "      <th></th>\n",
       "      <th>0</th>\n",
       "      <th>1</th>\n",
       "      <th>2</th>\n",
       "      <th>3</th>\n",
       "      <th>4</th>\n",
       "      <th>5</th>\n",
       "      <th>6</th>\n",
       "      <th>7</th>\n",
       "      <th>8</th>\n",
       "      <th>9</th>\n",
       "      <th>...</th>\n",
       "      <th>775</th>\n",
       "      <th>776</th>\n",
       "      <th>777</th>\n",
       "      <th>778</th>\n",
       "      <th>779</th>\n",
       "      <th>780</th>\n",
       "      <th>781</th>\n",
       "      <th>782</th>\n",
       "      <th>783</th>\n",
       "      <th>784</th>\n",
       "    </tr>\n",
       "  </thead>\n",
       "  <tbody>\n",
       "    <tr>\n",
       "      <th>0</th>\n",
       "      <td>6</td>\n",
       "      <td>0</td>\n",
       "      <td>0</td>\n",
       "      <td>0</td>\n",
       "      <td>0</td>\n",
       "      <td>0</td>\n",
       "      <td>0</td>\n",
       "      <td>0</td>\n",
       "      <td>0</td>\n",
       "      <td>0</td>\n",
       "      <td>...</td>\n",
       "      <td>0</td>\n",
       "      <td>0</td>\n",
       "      <td>0</td>\n",
       "      <td>0</td>\n",
       "      <td>0</td>\n",
       "      <td>0</td>\n",
       "      <td>0</td>\n",
       "      <td>0</td>\n",
       "      <td>0</td>\n",
       "      <td>0</td>\n",
       "    </tr>\n",
       "    <tr>\n",
       "      <th>1</th>\n",
       "      <td>5</td>\n",
       "      <td>0</td>\n",
       "      <td>0</td>\n",
       "      <td>0</td>\n",
       "      <td>0</td>\n",
       "      <td>0</td>\n",
       "      <td>0</td>\n",
       "      <td>0</td>\n",
       "      <td>0</td>\n",
       "      <td>0</td>\n",
       "      <td>...</td>\n",
       "      <td>0</td>\n",
       "      <td>0</td>\n",
       "      <td>0</td>\n",
       "      <td>0</td>\n",
       "      <td>0</td>\n",
       "      <td>0</td>\n",
       "      <td>0</td>\n",
       "      <td>0</td>\n",
       "      <td>0</td>\n",
       "      <td>0</td>\n",
       "    </tr>\n",
       "    <tr>\n",
       "      <th>2</th>\n",
       "      <td>7</td>\n",
       "      <td>0</td>\n",
       "      <td>0</td>\n",
       "      <td>0</td>\n",
       "      <td>0</td>\n",
       "      <td>0</td>\n",
       "      <td>0</td>\n",
       "      <td>0</td>\n",
       "      <td>0</td>\n",
       "      <td>0</td>\n",
       "      <td>...</td>\n",
       "      <td>0</td>\n",
       "      <td>0</td>\n",
       "      <td>0</td>\n",
       "      <td>0</td>\n",
       "      <td>0</td>\n",
       "      <td>0</td>\n",
       "      <td>0</td>\n",
       "      <td>0</td>\n",
       "      <td>0</td>\n",
       "      <td>0</td>\n",
       "    </tr>\n",
       "    <tr>\n",
       "      <th>3</th>\n",
       "      <td>9</td>\n",
       "      <td>0</td>\n",
       "      <td>0</td>\n",
       "      <td>0</td>\n",
       "      <td>0</td>\n",
       "      <td>0</td>\n",
       "      <td>0</td>\n",
       "      <td>0</td>\n",
       "      <td>0</td>\n",
       "      <td>0</td>\n",
       "      <td>...</td>\n",
       "      <td>0</td>\n",
       "      <td>0</td>\n",
       "      <td>0</td>\n",
       "      <td>0</td>\n",
       "      <td>0</td>\n",
       "      <td>0</td>\n",
       "      <td>0</td>\n",
       "      <td>0</td>\n",
       "      <td>0</td>\n",
       "      <td>0</td>\n",
       "    </tr>\n",
       "    <tr>\n",
       "      <th>4</th>\n",
       "      <td>5</td>\n",
       "      <td>0</td>\n",
       "      <td>0</td>\n",
       "      <td>0</td>\n",
       "      <td>0</td>\n",
       "      <td>0</td>\n",
       "      <td>0</td>\n",
       "      <td>0</td>\n",
       "      <td>0</td>\n",
       "      <td>0</td>\n",
       "      <td>...</td>\n",
       "      <td>0</td>\n",
       "      <td>0</td>\n",
       "      <td>0</td>\n",
       "      <td>0</td>\n",
       "      <td>0</td>\n",
       "      <td>0</td>\n",
       "      <td>0</td>\n",
       "      <td>0</td>\n",
       "      <td>0</td>\n",
       "      <td>0</td>\n",
       "    </tr>\n",
       "  </tbody>\n",
       "</table>\n",
       "<p>5 rows × 785 columns</p>\n",
       "</div>"
      ],
      "text/plain": [
       "   0    1    2    3    4    5    6    7    8    9   ...   775  776  777  778  \\\n",
       "0    6    0    0    0    0    0    0    0    0    0 ...     0    0    0    0   \n",
       "1    5    0    0    0    0    0    0    0    0    0 ...     0    0    0    0   \n",
       "2    7    0    0    0    0    0    0    0    0    0 ...     0    0    0    0   \n",
       "3    9    0    0    0    0    0    0    0    0    0 ...     0    0    0    0   \n",
       "4    5    0    0    0    0    0    0    0    0    0 ...     0    0    0    0   \n",
       "\n",
       "   779  780  781  782  783  784  \n",
       "0    0    0    0    0    0    0  \n",
       "1    0    0    0    0    0    0  \n",
       "2    0    0    0    0    0    0  \n",
       "3    0    0    0    0    0    0  \n",
       "4    0    0    0    0    0    0  \n",
       "\n",
       "[5 rows x 785 columns]"
      ]
     },
     "execution_count": 2,
     "metadata": {
      "tags": []
     },
     "output_type": "execute_result"
    }
   ],
   "source": [
    "# load data\n",
    "df = pd.read_csv('sample_data/mnist_train_small.csv', header=None)\n",
    "df.head()"
   ]
  },
  {
   "cell_type": "code",
   "execution_count": 3,
   "metadata": {
    "id": "LVQ7iNr-wg6c",
    "colab_type": "code",
    "outputId": "c414da9a-207a-4807-f00e-0125340b44c6",
    "executionInfo": {
     "status": "ok",
     "timestamp": 1.542173423334E12,
     "user_tz": -60.0,
     "elapsed": 653.0,
     "user": {
      "displayName": "Serhii Lehkyi",
      "photoUrl": "https://lh3.googleusercontent.com/-qassuiEDJBU/AAAAAAAAAAI/AAAAAAAALJ8/PaeC0MtgnoQ/s64/photo.jpg",
      "userId": "14713728991309101865"
     }
    },
    "colab": {
     "base_uri": "https://localhost:8080/",
     "height": 34.0
    }
   },
   "outputs": [
    {
     "data": {
      "text/plain": [
       "20000"
      ]
     },
     "execution_count": 3,
     "metadata": {
      "tags": []
     },
     "output_type": "execute_result"
    }
   ],
   "source": [
    "len(df)"
   ]
  },
  {
   "cell_type": "markdown",
   "metadata": {
    "id": "EtlLxPZhyPic",
    "colab_type": "text"
   },
   "source": [
    "As we can see from the head() method, first column in dataset contains labels and the rest pixels of the image 28x28 - that is why we have 784 columns more. \n",
    "It is also useful to check the length of the dataset each time after some modification to make sure we did everything correct.\n",
    "\n",
    "---\n",
    "\n",
    "Next, let's visualize our pixels and watch the images we have. We use randint() to select random image every time we run the code below. Also we have to transform our pixels to numpy array (now its' type is Series) and reshape it to the size 28x28 to be able to plot them."
   ]
  },
  {
   "cell_type": "code",
   "execution_count": 4,
   "metadata": {
    "id": "pNIgMOb0wrbU",
    "colab_type": "code",
    "outputId": "18c8779c-9956-46d3-ec5a-fc7ee727f019",
    "executionInfo": {
     "status": "ok",
     "timestamp": 1.542173424318E12,
     "user_tz": -60.0,
     "elapsed": 733.0,
     "user": {
      "displayName": "Serhii Lehkyi",
      "photoUrl": "https://lh3.googleusercontent.com/-qassuiEDJBU/AAAAAAAAAAI/AAAAAAAALJ8/PaeC0MtgnoQ/s64/photo.jpg",
      "userId": "14713728991309101865"
     }
    },
    "colab": {
     "base_uri": "https://localhost:8080/",
     "height": 299.0
    }
   },
   "outputs": [
    {
     "name": "stdout",
     "output_type": "stream",
     "text": [
      "label: 9\n"
     ]
    },
    {
     "data": {
      "text/plain": [
       "<matplotlib.image.AxesImage at 0x7ff9ac6fda20>"
      ]
     },
     "execution_count": 4,
     "metadata": {
      "tags": []
     },
     "output_type": "execute_result"
    },
    {
     "data": {
      "image/png": "[encoded data removed]",
      "text/plain": [
       "<matplotlib.figure.Figure at 0x7ff9ac761080>"
      ]
     },
     "metadata": {
      "tags": []
     },
     "output_type": "display_data"
    }
   ],
   "source": [
    "ix = random.randint(0, len(df)-1)\n",
    "label, pixels = df.loc[ix][0], df.loc[ix][1:]\n",
    "img = np.array(pixels).reshape((28,28))\n",
    "print('label: ' + str(label))\n",
    "plt.imshow(img)"
   ]
  },
  {
   "cell_type": "markdown",
   "metadata": {
    "id": "TPS_oOjU00r7",
    "colab_type": "text"
   },
   "source": [
    "Now, to make our life little bit easier we will transform our dataframe to have only two columns - label and image, where image is a numpy array of pixels. Also we will reduce the size of dataframe for faster computation (first we want to make sure everything works and then we start playing with model)"
   ]
  },
  {
   "cell_type": "code",
   "execution_count": 5,
   "metadata": {
    "id": "dCzMb3QZw4Ew",
    "colab_type": "code",
    "outputId": "211f5b3f-eca1-4d38-9828-e951ef4b8829",
    "executionInfo": {
     "status": "ok",
     "timestamp": 1.542173427851E12,
     "user_tz": -60.0,
     "elapsed": 3469.0,
     "user": {
      "displayName": "Serhii Lehkyi",
      "photoUrl": "https://lh3.googleusercontent.com/-qassuiEDJBU/AAAAAAAAAAI/AAAAAAAALJ8/PaeC0MtgnoQ/s64/photo.jpg",
      "userId": "14713728991309101865"
     }
    },
    "colab": {
     "base_uri": "https://localhost:8080/",
     "height": 204.0
    }
   },
   "outputs": [
    {
     "data": {
      "text/html": [
       "<div>\n",
       "<style scoped>\n",
       "    .dataframe tbody tr th:only-of-type {\n",
       "        vertical-align: middle;\n",
       "    }\n",
       "\n",
       "    .dataframe tbody tr th {\n",
       "        vertical-align: top;\n",
       "    }\n",
       "\n",
       "    .dataframe thead th {\n",
       "        text-align: right;\n",
       "    }\n",
       "</style>\n",
       "<table border=\"1\" class=\"dataframe\">\n",
       "  <thead>\n",
       "    <tr style=\"text-align: right;\">\n",
       "      <th></th>\n",
       "      <th>img</th>\n",
       "      <th>label</th>\n",
       "    </tr>\n",
       "  </thead>\n",
       "  <tbody>\n",
       "    <tr>\n",
       "      <th>0</th>\n",
       "      <td>[0, 0, 0, 0, 0, 0, 0, 0, 0, 0, 0, 0, 0, 0, 0, ...</td>\n",
       "      <td>6</td>\n",
       "    </tr>\n",
       "    <tr>\n",
       "      <th>1</th>\n",
       "      <td>[0, 0, 0, 0, 0, 0, 0, 0, 0, 0, 0, 0, 0, 0, 0, ...</td>\n",
       "      <td>5</td>\n",
       "    </tr>\n",
       "    <tr>\n",
       "      <th>2</th>\n",
       "      <td>[0, 0, 0, 0, 0, 0, 0, 0, 0, 0, 0, 0, 0, 0, 0, ...</td>\n",
       "      <td>7</td>\n",
       "    </tr>\n",
       "    <tr>\n",
       "      <th>3</th>\n",
       "      <td>[0, 0, 0, 0, 0, 0, 0, 0, 0, 0, 0, 0, 0, 0, 0, ...</td>\n",
       "      <td>9</td>\n",
       "    </tr>\n",
       "    <tr>\n",
       "      <th>4</th>\n",
       "      <td>[0, 0, 0, 0, 0, 0, 0, 0, 0, 0, 0, 0, 0, 0, 0, ...</td>\n",
       "      <td>5</td>\n",
       "    </tr>\n",
       "  </tbody>\n",
       "</table>\n",
       "</div>"
      ],
      "text/plain": [
       "                                                 img  label\n",
       "0  [0, 0, 0, 0, 0, 0, 0, 0, 0, 0, 0, 0, 0, 0, 0, ...      6\n",
       "1  [0, 0, 0, 0, 0, 0, 0, 0, 0, 0, 0, 0, 0, 0, 0, ...      5\n",
       "2  [0, 0, 0, 0, 0, 0, 0, 0, 0, 0, 0, 0, 0, 0, 0, ...      7\n",
       "3  [0, 0, 0, 0, 0, 0, 0, 0, 0, 0, 0, 0, 0, 0, 0, ...      9\n",
       "4  [0, 0, 0, 0, 0, 0, 0, 0, 0, 0, 0, 0, 0, 0, 0, ...      5"
      ]
     },
     "execution_count": 5,
     "metadata": {
      "tags": []
     },
     "output_type": "execute_result"
    }
   ],
   "source": [
    "# transforming df for easier manipulation\n",
    "labels, imgs = [], []\n",
    "for index, row in df.iterrows():\n",
    "    label, pixels = row[0], row[1:]\n",
    "    img = np.array(pixels)\n",
    "    labels.append(label)\n",
    "    imgs.append(img)\n",
    "df2 = pd.DataFrame({'label': labels, 'img': imgs})\n",
    "df2 = df2[:1000]\n",
    "df2.head()"
   ]
  },
  {
   "cell_type": "code",
   "execution_count": 6,
   "metadata": {
    "id": "srN0F_F1xTYG",
    "colab_type": "code",
    "outputId": "716e9c93-a9e7-486d-a76e-427e6bb1c6e0",
    "executionInfo": {
     "status": "ok",
     "timestamp": 1.54217342876E12,
     "user_tz": -60.0,
     "elapsed": 859.0,
     "user": {
      "displayName": "Serhii Lehkyi",
      "photoUrl": "https://lh3.googleusercontent.com/-qassuiEDJBU/AAAAAAAAAAI/AAAAAAAALJ8/PaeC0MtgnoQ/s64/photo.jpg",
      "userId": "14713728991309101865"
     }
    },
    "colab": {
     "base_uri": "https://localhost:8080/",
     "height": 299.0
    }
   },
   "outputs": [
    {
     "name": "stdout",
     "output_type": "stream",
     "text": [
      "label: 9\n"
     ]
    },
    {
     "data": {
      "text/plain": [
       "<matplotlib.image.AxesImage at 0x7ff9a9b997f0>"
      ]
     },
     "execution_count": 6,
     "metadata": {
      "tags": []
     },
     "output_type": "execute_result"
    },
    {
     "data": {
      "image/png": "[encoded data removed]",
      "text/plain": [
       "<matplotlib.figure.Figure at 0x7ff9ac6c8978>"
      ]
     },
     "metadata": {
      "tags": []
     },
     "output_type": "display_data"
    }
   ],
   "source": [
    "# checking images using new df structure\n",
    "ix = random.randint(0, len(df2)-1)\n",
    "img = df2.loc[ix].img.reshape((28,28))\n",
    "label = df2.loc[ix].label\n",
    "print('label: ' + str(label))\n",
    "plt.imshow(img)"
   ]
  },
  {
   "cell_type": "markdown",
   "metadata": {
    "id": "Sz3Y_S6x2GdE",
    "colab_type": "text"
   },
   "source": [
    "When we have our data prepared, we want to split it into 2 datasets: one to traing our model and another to test it's performance. And the best way to do that is using *sklearn*. We set up a *test_size=0.2* which is standard value for this operation (usually for test we leave 20-30% of data), which means that for training remains 80%. It is also a good practice to set *shuffle=True* as some datasets might have ordered data, so the model will learn to recognize 0s and 1s, but won't have any idea that 8 exists for example."
   ]
  },
  {
   "cell_type": "code",
   "execution_count": 7,
   "metadata": {
    "id": "HsHpeiGBx4B4",
    "colab_type": "code",
    "outputId": "0542c49d-8c0a-4705-f172-d1ac14c67100",
    "executionInfo": {
     "status": "ok",
     "timestamp": 1.542173429476E12,
     "user_tz": -60.0,
     "elapsed": 658.0,
     "user": {
      "displayName": "Serhii Lehkyi",
      "photoUrl": "https://lh3.googleusercontent.com/-qassuiEDJBU/AAAAAAAAAAI/AAAAAAAALJ8/PaeC0MtgnoQ/s64/photo.jpg",
      "userId": "14713728991309101865"
     }
    },
    "colab": {
     "base_uri": "https://localhost:8080/",
     "height": 34.0
    }
   },
   "outputs": [
    {
     "name": "stdout",
     "output_type": "stream",
     "text": [
      "800 200\n"
     ]
    }
   ],
   "source": [
    "from sklearn.model_selection import train_test_split\n",
    "\n",
    "train_df, test_df = train_test_split(df2, test_size=0.2, shuffle=True)\n",
    "\n",
    "print(len(train_df), len(test_df))"
   ]
  },
  {
   "cell_type": "code",
   "execution_count": 8,
   "metadata": {
    "id": "OXsT-FyOyDpD",
    "colab_type": "code",
    "outputId": "c1871724-7672-4555-e24d-489c7359308c",
    "executionInfo": {
     "status": "ok",
     "timestamp": 1.542173430313E12,
     "user_tz": -60.0,
     "elapsed": 525.0,
     "user": {
      "displayName": "Serhii Lehkyi",
      "photoUrl": "https://lh3.googleusercontent.com/-qassuiEDJBU/AAAAAAAAAAI/AAAAAAAALJ8/PaeC0MtgnoQ/s64/photo.jpg",
      "userId": "14713728991309101865"
     }
    },
    "colab": {
     "base_uri": "https://localhost:8080/",
     "height": 204.0
    }
   },
   "outputs": [
    {
     "data": {
      "text/html": [
       "<div>\n",
       "<style scoped>\n",
       "    .dataframe tbody tr th:only-of-type {\n",
       "        vertical-align: middle;\n",
       "    }\n",
       "\n",
       "    .dataframe tbody tr th {\n",
       "        vertical-align: top;\n",
       "    }\n",
       "\n",
       "    .dataframe thead th {\n",
       "        text-align: right;\n",
       "    }\n",
       "</style>\n",
       "<table border=\"1\" class=\"dataframe\">\n",
       "  <thead>\n",
       "    <tr style=\"text-align: right;\">\n",
       "      <th></th>\n",
       "      <th>img</th>\n",
       "      <th>label</th>\n",
       "    </tr>\n",
       "  </thead>\n",
       "  <tbody>\n",
       "    <tr>\n",
       "      <th>825</th>\n",
       "      <td>[0, 0, 0, 0, 0, 0, 0, 0, 0, 0, 0, 0, 0, 0, 0, ...</td>\n",
       "      <td>0</td>\n",
       "    </tr>\n",
       "    <tr>\n",
       "      <th>305</th>\n",
       "      <td>[0, 0, 0, 0, 0, 0, 0, 0, 0, 0, 0, 0, 0, 0, 0, ...</td>\n",
       "      <td>7</td>\n",
       "    </tr>\n",
       "    <tr>\n",
       "      <th>189</th>\n",
       "      <td>[0, 0, 0, 0, 0, 0, 0, 0, 0, 0, 0, 0, 0, 0, 0, ...</td>\n",
       "      <td>3</td>\n",
       "    </tr>\n",
       "    <tr>\n",
       "      <th>397</th>\n",
       "      <td>[0, 0, 0, 0, 0, 0, 0, 0, 0, 0, 0, 0, 0, 0, 0, ...</td>\n",
       "      <td>7</td>\n",
       "    </tr>\n",
       "    <tr>\n",
       "      <th>70</th>\n",
       "      <td>[0, 0, 0, 0, 0, 0, 0, 0, 0, 0, 0, 0, 0, 0, 0, ...</td>\n",
       "      <td>8</td>\n",
       "    </tr>\n",
       "  </tbody>\n",
       "</table>\n",
       "</div>"
      ],
      "text/plain": [
       "                                                   img  label\n",
       "825  [0, 0, 0, 0, 0, 0, 0, 0, 0, 0, 0, 0, 0, 0, 0, ...      0\n",
       "305  [0, 0, 0, 0, 0, 0, 0, 0, 0, 0, 0, 0, 0, 0, 0, ...      7\n",
       "189  [0, 0, 0, 0, 0, 0, 0, 0, 0, 0, 0, 0, 0, 0, 0, ...      3\n",
       "397  [0, 0, 0, 0, 0, 0, 0, 0, 0, 0, 0, 0, 0, 0, 0, ...      7\n",
       "70   [0, 0, 0, 0, 0, 0, 0, 0, 0, 0, 0, 0, 0, 0, 0, ...      8"
      ]
     },
     "execution_count": 8,
     "metadata": {
      "tags": []
     },
     "output_type": "execute_result"
    }
   ],
   "source": [
    "train_df.head()"
   ]
  },
  {
   "cell_type": "markdown",
   "metadata": {
    "id": "lV3qNa3r34kc",
    "colab_type": "text"
   },
   "source": [
    "We check the length, the head of datasets - all good, we can start building our model. For this we will need to install *pytorch*. If we go to \"Code snippets\" and start typing there *'pyt'* it will show us \"Install [pytorch]\", so we can insert it into our notebook."
   ]
  },
  {
   "cell_type": "code",
   "execution_count": 0,
   "metadata": {
    "id": "EhL8ddREyHu_",
    "colab_type": "code",
    "colab": {}
   },
   "outputs": [],
   "source": [
    "# http://pytorch.org/\n",
    "from os.path import exists\n",
    "from wheel.pep425tags import get_abbr_impl, get_impl_ver, get_abi_tag\n",
    "platform = '{}{}-{}'.format(get_abbr_impl(), get_impl_ver(), get_abi_tag())\n",
    "cuda_output = !ldconfig -p|grep cudart.so|sed -e 's/.*\\.\\([0-9]*\\)\\.\\([0-9]*\\)$/cu\\1\\2/'\n",
    "accelerator = cuda_output[0] if exists('/dev/nvidia0') else 'cpu'\n",
    "\n",
    "!pip install -q http://download.pytorch.org/whl/{accelerator}/torch-0.4.1-{platform}-linux_x86_64.whl torchvision"
   ]
  },
  {
   "cell_type": "code",
   "execution_count": 10,
   "metadata": {
    "id": "yAFZHCSnyRhu",
    "colab_type": "code",
    "outputId": "549642b8-057f-4a5c-c277-3e57052cd8ae",
    "executionInfo": {
     "status": "ok",
     "timestamp": 1.542173435871E12,
     "user_tz": -60.0,
     "elapsed": 855.0,
     "user": {
      "displayName": "Serhii Lehkyi",
      "photoUrl": "https://lh3.googleusercontent.com/-qassuiEDJBU/AAAAAAAAAAI/AAAAAAAALJ8/PaeC0MtgnoQ/s64/photo.jpg",
      "userId": "14713728991309101865"
     }
    },
    "colab": {
     "base_uri": "https://localhost:8080/",
     "height": 34.0
    }
   },
   "outputs": [
    {
     "name": "stdout",
     "output_type": "stream",
     "text": [
      "cpu\n"
     ]
    }
   ],
   "source": [
    "# importing torch and setting up the device\n",
    "import torch\n",
    "device = torch.device(\"cuda:0\" if torch.cuda.is_available() else \"cpu\")\n",
    "print(device)"
   ]
  },
  {
   "cell_type": "markdown",
   "metadata": {
    "id": "jRRcleLq5pPV",
    "colab_type": "text"
   },
   "source": [
    "Next, we have to transform our data into pytorch Dataset. `torch.utils.data.Dataset` is an abstract class representing a dataset. Your custom dataset should inherit Dataset and override the following methods:\n",
    "*   `__len__ `so that `len(dataset)` returns the size of the dataset.\n",
    "*   `__getitem__` to support the indexing such that `dataset[i]` can be used to get its sample\n",
    "\n"
   ]
  },
  {
   "cell_type": "code",
   "execution_count": 0,
   "metadata": {
    "id": "YYxuxnOnyYf2",
    "colab_type": "code",
    "colab": {}
   },
   "outputs": [],
   "source": [
    "# create torch dataset\n",
    "from torch.utils.data import Dataset\n",
    "\n",
    "class MNISTDataset(Dataset):\n",
    "  def __init__(self, imgs, labels):\n",
    "    super(MNISTDataset, self).__init__()\n",
    "    self.imgs = imgs\n",
    "    self.labels = labels\n",
    "    \n",
    "  def __len__(self):\n",
    "    return len(self.imgs)\n",
    "  \n",
    "  def __getitem__(self, ix):\n",
    "    img = self.imgs[ix]\n",
    "    label = self.labels[ix]\n",
    "    return torch.from_numpy(img).float(), label"
   ]
  },
  {
   "cell_type": "code",
   "execution_count": 12,
   "metadata": {
    "id": "Mi_j-gAZy3mn",
    "colab_type": "code",
    "outputId": "aa6fc61d-8975-401b-eb75-a09695062110",
    "executionInfo": {
     "status": "ok",
     "timestamp": 1.542173437387E12,
     "user_tz": -60.0,
     "elapsed": 498.0,
     "user": {
      "displayName": "Serhii Lehkyi",
      "photoUrl": "https://lh3.googleusercontent.com/-qassuiEDJBU/AAAAAAAAAAI/AAAAAAAALJ8/PaeC0MtgnoQ/s64/photo.jpg",
      "userId": "14713728991309101865"
     }
    },
    "colab": {
     "base_uri": "https://localhost:8080/",
     "height": 34.0
    }
   },
   "outputs": [
    {
     "data": {
      "text/plain": [
       "800"
      ]
     },
     "execution_count": 12,
     "metadata": {
      "tags": []
     },
     "output_type": "execute_result"
    }
   ],
   "source": [
    "dataset = {\n",
    "    'train': MNISTDataset(train_df.img.values, train_df.label.values),\n",
    "    'test': MNISTDataset(test_df.img.values, test_df.label.values)\n",
    "} \n",
    "\n",
    "len(dataset['train'])"
   ]
  },
  {
   "cell_type": "code",
   "execution_count": 13,
   "metadata": {
    "id": "KT6VmXA-zWPF",
    "colab_type": "code",
    "outputId": "6b228c2f-2d35-4078-f480-d5ec72659a21",
    "executionInfo": {
     "status": "ok",
     "timestamp": 1.542173438369E12,
     "user_tz": -60.0,
     "elapsed": 751.0,
     "user": {
      "displayName": "Serhii Lehkyi",
      "photoUrl": "https://lh3.googleusercontent.com/-qassuiEDJBU/AAAAAAAAAAI/AAAAAAAALJ8/PaeC0MtgnoQ/s64/photo.jpg",
      "userId": "14713728991309101865"
     }
    },
    "colab": {
     "base_uri": "https://localhost:8080/",
     "height": 316.0
    }
   },
   "outputs": [
    {
     "name": "stdout",
     "output_type": "stream",
     "text": [
      "torch.Size([784]) torch.float32\n",
      "6\n"
     ]
    },
    {
     "data": {
      "text/plain": [
       "<matplotlib.image.AxesImage at 0x7ff99eeeed30>"
      ]
     },
     "execution_count": 13,
     "metadata": {
      "tags": []
     },
     "output_type": "execute_result"
    },
    {
     "data": {
      "image/png": "[encoded data removed]",
      "text/plain": [
       "<matplotlib.figure.Figure at 0x7ff99ef2a5c0>"
      ]
     },
     "metadata": {
      "tags": []
     },
     "output_type": "display_data"
    }
   ],
   "source": [
    "# againg checking image, now based on torch dataset\n",
    "ix = random.randint(0, len(dataset['train'])-1)\n",
    "img, label = dataset['train'][ix]\n",
    "print(img.shape, img.dtype)\n",
    "print(label)\n",
    "plt.imshow(img.reshape((28,28)))"
   ]
  },
  {
   "cell_type": "markdown",
   "metadata": {
    "id": "xAvTDevk672y",
    "colab_type": "text"
   },
   "source": [
    "The beauty of pytorch is its simplicity in defining the model. We define our layer with inputs and outputs, we add some batch normalization to improve our model (It is a technique to provide any layer in a neural network with inputs that are zero mean/unit variance) and activation function, in this case ReLU.\n",
    "\n",
    "For the first input we have 784 neurons (one neuron per each pixel) and 512 for output (this one is almost random - I tried few different values and this one performed pretty well, so I left it). Next layer will have 512 inputs (input_layer[n+1] == output_layer[n]) and 256 for output, next 256 inputs and 128 outputs and the last one - 128 inputs and 10 for output (each neuron represents one of 10 digits)"
   ]
  },
  {
   "cell_type": "code",
   "execution_count": 14,
   "metadata": {
    "id": "Kuzz2YBJzn9g",
    "colab_type": "code",
    "outputId": "198289c6-89b6-47c5-a7a8-b85e87c8530e",
    "executionInfo": {
     "status": "ok",
     "timestamp": 1.542173439056E12,
     "user_tz": -60.0,
     "elapsed": 654.0,
     "user": {
      "displayName": "Serhii Lehkyi",
      "photoUrl": "https://lh3.googleusercontent.com/-qassuiEDJBU/AAAAAAAAAAI/AAAAAAAALJ8/PaeC0MtgnoQ/s64/photo.jpg",
      "userId": "14713728991309101865"
     }
    },
    "colab": {
     "base_uri": "https://localhost:8080/",
     "height": 323.0
    }
   },
   "outputs": [
    {
     "data": {
      "text/plain": [
       "Sequential(\n",
       "  (0): Sequential(\n",
       "    (0): Linear(in_features=784, out_features=512, bias=True)\n",
       "    (1): BatchNorm1d(512, eps=1e-05, momentum=0.1, affine=True, track_running_stats=True)\n",
       "    (2): ReLU(inplace)\n",
       "  )\n",
       "  (1): Sequential(\n",
       "    (0): Linear(in_features=512, out_features=256, bias=True)\n",
       "    (1): BatchNorm1d(256, eps=1e-05, momentum=0.1, affine=True, track_running_stats=True)\n",
       "    (2): ReLU(inplace)\n",
       "  )\n",
       "  (2): Sequential(\n",
       "    (0): Linear(in_features=256, out_features=128, bias=True)\n",
       "    (1): BatchNorm1d(128, eps=1e-05, momentum=0.1, affine=True, track_running_stats=True)\n",
       "    (2): ReLU(inplace)\n",
       "  )\n",
       "  (3): Linear(in_features=128, out_features=10, bias=True)\n",
       ")"
      ]
     },
     "execution_count": 14,
     "metadata": {
      "tags": []
     },
     "output_type": "execute_result"
    }
   ],
   "source": [
    "# create model\n",
    "import torch.nn as nn\n",
    "\n",
    "def block(in_f, out_f):\n",
    "  return nn.Sequential(\n",
    "      nn.Linear(in_f, out_f),\n",
    "      nn.BatchNorm1d(out_f),\n",
    "      nn.ReLU(inplace=True),\n",
    "      #nn.Dropout(),\n",
    "  )\n",
    "\n",
    "model = nn.Sequential(\n",
    "  block(784,512),\n",
    "  block(512,256),\n",
    "  block(256,128),\n",
    "  nn.Linear(128, 10)\n",
    ")\n",
    "\n",
    "model.to(device)"
   ]
  },
  {
   "cell_type": "markdown",
   "metadata": {
    "id": "2HX-GpHv_MvU",
    "colab_type": "text"
   },
   "source": [
    "Now we need to create few additional parameters for our model:\n",
    "\n",
    "*   criterion - to calculate loss function, in our case [CrossEntropyLoss](https://https://pytorch.org/docs/stable/nn.html#torch.nn.CrossEntropyLoss)\n",
    "*   optimizer - to set up learning rate\n",
    "*   scheduler - to update learning rate if model doesn't improve with time (quite powerful technique, allows us to tweak the system on the go)\n",
    "*   dataloader - class for pytorch that provides single- or multi-process iterators over the dataset\n",
    "\n"
   ]
  },
  {
   "cell_type": "code",
   "execution_count": 0,
   "metadata": {
    "id": "hRewbku5z1AW",
    "colab_type": "code",
    "colab": {}
   },
   "outputs": [],
   "source": [
    "from torch.utils.data import DataLoader\n",
    "import torch.optim as optim\n",
    "from torch.optim.lr_scheduler import StepLR, ReduceLROnPlateau\n",
    "\n",
    "criterion = nn.CrossEntropyLoss()\n",
    "optimizer = optim.Adam(model.parameters(), lr=0.1)\n",
    "scheduler = ReduceLROnPlateau(optimizer, 'max', factor=0.1, patience=3, min_lr=0.0001, verbose=True)\n",
    "\n",
    "dataloader = {\n",
    "    'train': DataLoader(dataset['train'], batch_size=32, shuffle=True, num_workers=4),\n",
    "    'test': DataLoader(dataset['test'], batch_size=32, shuffle=False, num_workers=4),\n",
    "}"
   ]
  },
  {
   "cell_type": "markdown",
   "metadata": {
    "id": "YV1O_eHVhajt",
    "colab_type": "text"
   },
   "source": [
    "With all above we can start training and evaluating our model. Although we define 100 epochs, it is also useful to stop the loop if model doesn't improve with time. Here we have set up `early_stop = 10`, so if model doesn't change for 10 epochs in a row we will stop the training process.\n",
    "\n",
    "Training process: we iterate through our train data by assigning each image and label to a device defined previously, we give our model an image and it tries to find the correct class (`preds`), we clear all gradients (`zero_grad()`) and calculate the loss function and the gradient (`loss`), perform an optimizer step and append new value to a `total_loss` array.\n",
    "\n",
    "Testing process: we iterate through the test data, make predictions, calculate the loss and accuracy of the model. In `torch.max()` we are looking for an index of the maximum value as it will represent the class of a digit and in our case it will match labels. Then by comparing labels and predictions we calculate the accuracy of our model.\n",
    "\n",
    "Every time we find the best model we save it and if we hit the `early_stop` we exit and report the results. Usually it won't need all those 100 epochs."
   ]
  },
  {
   "cell_type": "code",
   "execution_count": 16,
   "metadata": {
    "id": "dIdoHrWQ0E6C",
    "colab_type": "code",
    "outputId": "606d9e0c-6a7a-47e9-cba3-c6b07c139f44",
    "executionInfo": {
     "status": "ok",
     "timestamp": 1.54217346289E12,
     "user_tz": -60.0,
     "elapsed": 22873.0,
     "user": {
      "displayName": "Serhii Lehkyi",
      "photoUrl": "https://lh3.googleusercontent.com/-qassuiEDJBU/AAAAAAAAAAI/AAAAAAAALJ8/PaeC0MtgnoQ/s64/photo.jpg",
      "userId": "14713728991309101865"
     }
    },
    "colab": {
     "base_uri": "https://localhost:8080/",
     "height": 2448.0
    }
   },
   "outputs": [
    {
     "name": "stderr",
     "output_type": "stream",
     "text": [
      "100%|██████████| 25/25 [00:00<00:00, 48.24it/s]\n",
      "100%|██████████| 7/7 [00:00<00:00, 61.19it/s]\n",
      "  0%|          | 0/25 [00:00<?, ?it/s]"
     ]
    },
    {
     "name": "stdout",
     "output_type": "stream",
     "text": [
      "\n",
      " Best model ! saved.\n",
      "\n",
      " Epoch 1, Training loss: 1.287729, Val loss: 1.297057, Val acc: 0.690000\n"
     ]
    },
    {
     "name": "stderr",
     "output_type": "stream",
     "text": [
      "100%|██████████| 25/25 [00:00<00:00, 50.73it/s]\n",
      "100%|██████████| 7/7 [00:00<00:00, 53.33it/s]\n",
      "  0%|          | 0/25 [00:00<?, ?it/s]"
     ]
    },
    {
     "name": "stdout",
     "output_type": "stream",
     "text": [
      "\n",
      " Best model ! saved.\n",
      "\n",
      " Epoch 2, Training loss: 0.714153, Val loss: 1.025788, Val acc: 0.770000\n"
     ]
    },
    {
     "name": "stderr",
     "output_type": "stream",
     "text": [
      "100%|██████████| 25/25 [00:00<00:00, 48.65it/s]\n",
      "100%|██████████| 7/7 [00:00<00:00, 48.32it/s]\n",
      "  0%|          | 0/25 [00:00<?, ?it/s]"
     ]
    },
    {
     "name": "stdout",
     "output_type": "stream",
     "text": [
      "\n",
      " Best model ! saved.\n",
      "\n",
      " Epoch 3, Training loss: 0.526018, Val loss: 0.475901, Val acc: 0.855000\n"
     ]
    },
    {
     "name": "stderr",
     "output_type": "stream",
     "text": [
      "100%|██████████| 25/25 [00:00<00:00, 51.35it/s]\n",
      "100%|██████████| 7/7 [00:00<00:00, 51.34it/s]\n",
      "  0%|          | 0/25 [00:00<?, ?it/s]"
     ]
    },
    {
     "name": "stdout",
     "output_type": "stream",
     "text": [
      "\n",
      " Epoch 4, Training loss: 0.390981, Val loss: 0.584928, Val acc: 0.850000\n"
     ]
    },
    {
     "name": "stderr",
     "output_type": "stream",
     "text": [
      "100%|██████████| 25/25 [00:00<00:00, 52.03it/s]\n",
      "100%|██████████| 7/7 [00:00<00:00, 60.43it/s]\n",
      "  0%|          | 0/25 [00:00<?, ?it/s]"
     ]
    },
    {
     "name": "stdout",
     "output_type": "stream",
     "text": [
      "\n",
      " Best model ! saved.\n",
      "\n",
      " Epoch 5, Training loss: 0.299076, Val loss: 0.409660, Val acc: 0.890000\n"
     ]
    },
    {
     "name": "stderr",
     "output_type": "stream",
     "text": [
      "100%|██████████| 25/25 [00:00<00:00, 52.62it/s]\n",
      "100%|██████████| 7/7 [00:00<00:00, 57.51it/s]\n",
      "  0%|          | 0/25 [00:00<?, ?it/s]"
     ]
    },
    {
     "name": "stdout",
     "output_type": "stream",
     "text": [
      "\n",
      " Epoch 6, Training loss: 0.282667, Val loss: 0.569010, Val acc: 0.890000\n"
     ]
    },
    {
     "name": "stderr",
     "output_type": "stream",
     "text": [
      "100%|██████████| 25/25 [00:00<00:00, 50.77it/s]\n",
      "100%|██████████| 7/7 [00:00<00:00, 49.89it/s]\n",
      "  0%|          | 0/25 [00:00<?, ?it/s]"
     ]
    },
    {
     "name": "stdout",
     "output_type": "stream",
     "text": [
      "\n",
      " Epoch 7, Training loss: 0.368993, Val loss: 0.546251, Val acc: 0.870000\n"
     ]
    },
    {
     "name": "stderr",
     "output_type": "stream",
     "text": [
      "100%|██████████| 25/25 [00:00<00:00, 52.36it/s]\n",
      "100%|██████████| 7/7 [00:00<00:00, 47.32it/s]\n",
      "  0%|          | 0/25 [00:00<?, ?it/s]"
     ]
    },
    {
     "name": "stdout",
     "output_type": "stream",
     "text": [
      "\n",
      " Epoch 8, Training loss: 0.293367, Val loss: 0.588393, Val acc: 0.830000\n"
     ]
    },
    {
     "name": "stderr",
     "output_type": "stream",
     "text": [
      "100%|██████████| 25/25 [00:00<00:00, 49.85it/s]\n",
      "100%|██████████| 7/7 [00:00<00:00, 57.07it/s]\n",
      "  0%|          | 0/25 [00:00<?, ?it/s]"
     ]
    },
    {
     "name": "stdout",
     "output_type": "stream",
     "text": [
      "\n",
      " Best model ! saved.\n",
      "\n",
      " Epoch 9, Training loss: 0.176275, Val loss: 0.452349, Val acc: 0.895000\n"
     ]
    },
    {
     "name": "stderr",
     "output_type": "stream",
     "text": [
      "100%|██████████| 25/25 [00:00<00:00, 51.08it/s]\n",
      "100%|██████████| 7/7 [00:00<00:00, 61.36it/s]\n",
      "  0%|          | 0/25 [00:00<?, ?it/s]"
     ]
    },
    {
     "name": "stdout",
     "output_type": "stream",
     "text": [
      "\n",
      " Epoch 10, Training loss: 0.190740, Val loss: 0.749223, Val acc: 0.855000\n"
     ]
    },
    {
     "name": "stderr",
     "output_type": "stream",
     "text": [
      "100%|██████████| 25/25 [00:00<00:00, 46.52it/s]\n",
      "100%|██████████| 7/7 [00:00<00:00, 48.19it/s]\n",
      "  0%|          | 0/25 [00:00<?, ?it/s]"
     ]
    },
    {
     "name": "stdout",
     "output_type": "stream",
     "text": [
      "\n",
      " Epoch 11, Training loss: 0.231334, Val loss: 0.710024, Val acc: 0.845000\n"
     ]
    },
    {
     "name": "stderr",
     "output_type": "stream",
     "text": [
      "100%|██████████| 25/25 [00:00<00:00, 48.93it/s]\n",
      "100%|██████████| 7/7 [00:00<00:00, 47.92it/s]\n",
      "  0%|          | 0/25 [00:00<?, ?it/s]"
     ]
    },
    {
     "name": "stdout",
     "output_type": "stream",
     "text": [
      "\n",
      " Epoch 12, Training loss: 0.176967, Val loss: 0.570731, Val acc: 0.840000\n"
     ]
    },
    {
     "name": "stderr",
     "output_type": "stream",
     "text": [
      "100%|██████████| 25/25 [00:00<00:00, 48.76it/s]\n",
      "100%|██████████| 7/7 [00:00<00:00, 67.64it/s]\n",
      "  0%|          | 0/25 [00:00<?, ?it/s]"
     ]
    },
    {
     "name": "stdout",
     "output_type": "stream",
     "text": [
      "Epoch    12: reducing learning rate of group 0 to 1.0000e-02.\n",
      "\n",
      " Epoch 13, Training loss: 0.195777, Val loss: 0.656643, Val acc: 0.865000\n"
     ]
    },
    {
     "name": "stderr",
     "output_type": "stream",
     "text": [
      "100%|██████████| 25/25 [00:00<00:00, 48.06it/s]\n",
      "100%|██████████| 7/7 [00:00<00:00, 52.98it/s]\n",
      "  0%|          | 0/25 [00:00<?, ?it/s]"
     ]
    },
    {
     "name": "stdout",
     "output_type": "stream",
     "text": [
      "\n",
      " Epoch 14, Training loss: 0.085389, Val loss: 0.498354, Val acc: 0.875000\n"
     ]
    },
    {
     "name": "stderr",
     "output_type": "stream",
     "text": [
      "100%|██████████| 25/25 [00:00<00:00, 47.41it/s]\n",
      "100%|██████████| 7/7 [00:00<00:00, 50.36it/s]\n",
      "  0%|          | 0/25 [00:00<?, ?it/s]"
     ]
    },
    {
     "name": "stdout",
     "output_type": "stream",
     "text": [
      "\n",
      " Epoch 15, Training loss: 0.031412, Val loss: 0.436563, Val acc: 0.890000\n"
     ]
    },
    {
     "name": "stderr",
     "output_type": "stream",
     "text": [
      "100%|██████████| 25/25 [00:00<00:00, 48.63it/s]\n",
      "100%|██████████| 7/7 [00:00<00:00, 55.56it/s]\n",
      "  0%|          | 0/25 [00:00<?, ?it/s]"
     ]
    },
    {
     "name": "stdout",
     "output_type": "stream",
     "text": [
      "\n",
      " Best model ! saved.\n",
      "\n",
      " Epoch 16, Training loss: 0.029874, Val loss: 0.388386, Val acc: 0.900000\n"
     ]
    },
    {
     "name": "stderr",
     "output_type": "stream",
     "text": [
      "100%|██████████| 25/25 [00:00<00:00, 52.98it/s]\n",
      "100%|██████████| 7/7 [00:00<00:00, 54.83it/s]\n",
      "  0%|          | 0/25 [00:00<?, ?it/s]"
     ]
    },
    {
     "name": "stdout",
     "output_type": "stream",
     "text": [
      "\n",
      " Epoch 17, Training loss: 0.049520, Val loss: 0.423354, Val acc: 0.900000\n"
     ]
    },
    {
     "name": "stderr",
     "output_type": "stream",
     "text": [
      "100%|██████████| 25/25 [00:00<00:00, 50.19it/s]\n",
      "100%|██████████| 7/7 [00:00<00:00, 57.25it/s]\n",
      "  0%|          | 0/25 [00:00<?, ?it/s]"
     ]
    },
    {
     "name": "stdout",
     "output_type": "stream",
     "text": [
      "\n",
      " Epoch 18, Training loss: 0.023294, Val loss: 0.386265, Val acc: 0.900000\n"
     ]
    },
    {
     "name": "stderr",
     "output_type": "stream",
     "text": [
      "100%|██████████| 25/25 [00:00<00:00, 53.67it/s]\n",
      "100%|██████████| 7/7 [00:00<00:00, 51.05it/s]\n",
      "  0%|          | 0/25 [00:00<?, ?it/s]"
     ]
    },
    {
     "name": "stdout",
     "output_type": "stream",
     "text": [
      "\n",
      " Best model ! saved.\n",
      "\n",
      " Epoch 19, Training loss: 0.022117, Val loss: 0.393941, Val acc: 0.905000\n"
     ]
    },
    {
     "name": "stderr",
     "output_type": "stream",
     "text": [
      "100%|██████████| 25/25 [00:00<00:00, 53.84it/s]\n",
      "100%|██████████| 7/7 [00:00<00:00, 55.80it/s]\n",
      "  0%|          | 0/25 [00:00<?, ?it/s]"
     ]
    },
    {
     "name": "stdout",
     "output_type": "stream",
     "text": [
      "\n",
      " Epoch 20, Training loss: 0.023545, Val loss: 0.388233, Val acc: 0.905000\n"
     ]
    },
    {
     "name": "stderr",
     "output_type": "stream",
     "text": [
      "100%|██████████| 25/25 [00:00<00:00, 51.04it/s]\n",
      "100%|██████████| 7/7 [00:00<00:00, 63.19it/s]\n",
      "  0%|          | 0/25 [00:00<?, ?it/s]"
     ]
    },
    {
     "name": "stdout",
     "output_type": "stream",
     "text": [
      "\n",
      " Best model ! saved.\n",
      "\n",
      " Epoch 21, Training loss: 0.005979, Val loss: 0.374836, Val acc: 0.910000\n"
     ]
    },
    {
     "name": "stderr",
     "output_type": "stream",
     "text": [
      "100%|██████████| 25/25 [00:00<00:00, 33.37it/s]\n",
      "100%|██████████| 7/7 [00:00<00:00, 58.39it/s]\n",
      "  0%|          | 0/25 [00:00<?, ?it/s]"
     ]
    },
    {
     "name": "stdout",
     "output_type": "stream",
     "text": [
      "\n",
      " Epoch 22, Training loss: 0.013613, Val loss: 0.374461, Val acc: 0.905000\n"
     ]
    },
    {
     "name": "stderr",
     "output_type": "stream",
     "text": [
      "100%|██████████| 25/25 [00:00<00:00, 51.05it/s]\n",
      "100%|██████████| 7/7 [00:00<00:00, 72.11it/s]\n",
      "  0%|          | 0/25 [00:00<?, ?it/s]"
     ]
    },
    {
     "name": "stdout",
     "output_type": "stream",
     "text": [
      "\n",
      " Epoch 23, Training loss: 0.005479, Val loss: 0.358950, Val acc: 0.895000\n"
     ]
    },
    {
     "name": "stderr",
     "output_type": "stream",
     "text": [
      "100%|██████████| 25/25 [00:00<00:00, 51.37it/s]\n",
      "100%|██████████| 7/7 [00:00<00:00, 66.87it/s]\n",
      "  0%|          | 0/25 [00:00<?, ?it/s]"
     ]
    },
    {
     "name": "stdout",
     "output_type": "stream",
     "text": [
      "\n",
      " Epoch 24, Training loss: 0.015302, Val loss: 0.384199, Val acc: 0.910000\n"
     ]
    },
    {
     "name": "stderr",
     "output_type": "stream",
     "text": [
      "100%|██████████| 25/25 [00:00<00:00, 49.19it/s]\n",
      "100%|██████████| 7/7 [00:00<00:00, 68.84it/s]\n",
      "  0%|          | 0/25 [00:00<?, ?it/s]"
     ]
    },
    {
     "name": "stdout",
     "output_type": "stream",
     "text": [
      "Epoch    24: reducing learning rate of group 0 to 1.0000e-03.\n",
      "\n",
      " Epoch 25, Training loss: 0.002659, Val loss: 0.428535, Val acc: 0.905000\n"
     ]
    },
    {
     "name": "stderr",
     "output_type": "stream",
     "text": [
      "100%|██████████| 25/25 [00:00<00:00, 46.21it/s]\n",
      "100%|██████████| 7/7 [00:00<00:00, 66.47it/s]\n",
      "  0%|          | 0/25 [00:00<?, ?it/s]"
     ]
    },
    {
     "name": "stdout",
     "output_type": "stream",
     "text": [
      "\n",
      " Epoch 26, Training loss: 0.007188, Val loss: 0.429362, Val acc: 0.905000\n"
     ]
    },
    {
     "name": "stderr",
     "output_type": "stream",
     "text": [
      "100%|██████████| 25/25 [00:00<00:00, 41.78it/s]\n",
      "100%|██████████| 7/7 [00:00<00:00, 48.38it/s]\n",
      "  0%|          | 0/25 [00:00<?, ?it/s]"
     ]
    },
    {
     "name": "stdout",
     "output_type": "stream",
     "text": [
      "\n",
      " Epoch 27, Training loss: 0.023056, Val loss: 0.421917, Val acc: 0.905000\n"
     ]
    },
    {
     "name": "stderr",
     "output_type": "stream",
     "text": [
      "100%|██████████| 25/25 [00:00<00:00, 29.88it/s]\n",
      "100%|██████████| 7/7 [00:00<00:00, 49.11it/s]\n",
      "  0%|          | 0/25 [00:00<?, ?it/s]"
     ]
    },
    {
     "name": "stdout",
     "output_type": "stream",
     "text": [
      "\n",
      " Epoch 28, Training loss: 0.011646, Val loss: 0.442238, Val acc: 0.910000\n"
     ]
    },
    {
     "name": "stderr",
     "output_type": "stream",
     "text": [
      "100%|██████████| 25/25 [00:00<00:00, 24.24it/s]\n",
      "100%|██████████| 7/7 [00:00<00:00, 52.27it/s]\n",
      "  0%|          | 0/25 [00:00<?, ?it/s]"
     ]
    },
    {
     "name": "stdout",
     "output_type": "stream",
     "text": [
      "Epoch    28: reducing learning rate of group 0 to 1.0000e-04.\n",
      "\n",
      " Epoch 29, Training loss: 0.010954, Val loss: 0.404354, Val acc: 0.910000\n"
     ]
    },
    {
     "name": "stderr",
     "output_type": "stream",
     "text": [
      "100%|██████████| 25/25 [00:01<00:00, 22.26it/s]\n",
      "100%|██████████| 7/7 [00:00<00:00, 64.31it/s]\n",
      "  0%|          | 0/25 [00:00<?, ?it/s]"
     ]
    },
    {
     "name": "stdout",
     "output_type": "stream",
     "text": [
      "\n",
      " Epoch 30, Training loss: 0.015759, Val loss: 0.397337, Val acc: 0.910000\n"
     ]
    },
    {
     "name": "stderr",
     "output_type": "stream",
     "text": [
      "100%|██████████| 25/25 [00:01<00:00, 22.10it/s]\n",
      "100%|██████████| 7/7 [00:00<00:00, 73.41it/s]"
     ]
    },
    {
     "name": "stdout",
     "output_type": "stream",
     "text": [
      "\n",
      " Best model with acc: 0.91\n"
     ]
    },
    {
     "name": "stderr",
     "output_type": "stream",
     "text": [
      "\n"
     ]
    }
   ],
   "source": [
    "# train\n",
    "best_acc, stop, early_stop = 0, 0, 10\n",
    "for e in range(100):\n",
    "    \n",
    "  model.train()\n",
    "  total_loss = []\n",
    "  for imgs, labels in tqdm(dataloader['train']):\n",
    "    imgs, labels = imgs.to(device), labels.to(device)\n",
    "    preds = model(imgs)\n",
    "    optimizer.zero_grad()\n",
    "    loss = criterion(preds, labels)\n",
    "    loss.backward()\n",
    "    optimizer.step()\n",
    "    total_loss.append(loss.data)\n",
    "    \n",
    "  model.eval()\n",
    "  val_loss, acc = [], 0.\n",
    "  with torch.no_grad():\n",
    "    for imgs, labels in tqdm(dataloader['test']):\n",
    "      imgs, labels = imgs.to(device), labels.to(device)\n",
    "      preds = model(imgs)\n",
    "      loss = criterion(preds, labels)\n",
    "      val_loss.append(loss.data)\n",
    "      _, preds = torch.max(preds, 1)\n",
    "      acc += (preds == labels).sum().item()\n",
    "      \n",
    "  acc /= len(dataset['test'])\n",
    "  if acc > best_acc:\n",
    "    print('\\n Best model ! saved.')\n",
    "    torch.save(model.state_dict(), 'best_model.pt')\n",
    "    best_acc = acc\n",
    "    stop = -1\n",
    "  \n",
    "  stop += 1\n",
    "  if stop >= early_stop:\n",
    "    break\n",
    "    \n",
    "  scheduler.step(acc)\n",
    "    \n",
    "  print('\\n Epoch {}, Training loss: {:4f}, Val loss: {:4f}, Val acc: {:4f}'.format(\n",
    "      e+1, np.array(total_loss).mean(), np.array(val_loss).mean(), acc))\n",
    "  \n",
    "print('\\n Best model with acc: {}'.format(best_acc))"
   ]
  },
  {
   "cell_type": "markdown",
   "metadata": {
    "id": "53ZptqytqqWh",
    "colab_type": "text"
   },
   "source": [
    "When we find our best model and save it, we can play with it by feeding it with new data and see how it performs."
   ]
  },
  {
   "cell_type": "code",
   "execution_count": 17,
   "metadata": {
    "id": "1H_ytEgU0UWe",
    "colab_type": "code",
    "outputId": "85b13eb7-7293-4805-f792-3d0387370fd4",
    "executionInfo": {
     "status": "ok",
     "timestamp": 1.542173463762E12,
     "user_tz": -60.0,
     "elapsed": 789.0,
     "user": {
      "displayName": "Serhii Lehkyi",
      "photoUrl": "https://lh3.googleusercontent.com/-qassuiEDJBU/AAAAAAAAAAI/AAAAAAAALJ8/PaeC0MtgnoQ/s64/photo.jpg",
      "userId": "14713728991309101865"
     }
    },
    "colab": {
     "base_uri": "https://localhost:8080/",
     "height": 299.0
    }
   },
   "outputs": [
    {
     "name": "stdout",
     "output_type": "stream",
     "text": [
      "Ground Truth: 5, Prediction: 5\n"
     ]
    },
    {
     "data": {
      "text/plain": [
       "<matplotlib.image.AxesImage at 0x7ff9a9ced748>"
      ]
     },
     "execution_count": 17,
     "metadata": {
      "tags": []
     },
     "output_type": "execute_result"
    },
    {
     "data": {
      "image/png": "[encoded data removed]",
      "text/plain": [
       "<matplotlib.figure.Figure at 0x7ff99ef07748>"
      ]
     },
     "metadata": {
      "tags": []
     },
     "output_type": "display_data"
    }
   ],
   "source": [
    "# test\n",
    "model.load_state_dict(torch.load('best_model.pt'))\n",
    "model.to(device)\n",
    "model.eval()\n",
    "\n",
    "ix = random.randint(0, len(dataset['test'])-1)\n",
    "img, label = dataset['test'][ix]\n",
    "pred = model(img.unsqueeze(0).to(device)).cpu()\n",
    "pred_label = torch.argmax(pred)\n",
    "print('Ground Truth: {}, Prediction: {}'.format(label, pred_label))\n",
    "plt.imshow(img.reshape((28,28)))"
   ]
  },
  {
   "cell_type": "markdown",
   "metadata": {
    "id": "UFy9h-40rU9v",
    "colab_type": "text"
   },
   "source": [
    "Like it was said in the beginning it is a \"Hello World\" for the image recognition, we didn't use convolutional neural network which is normally used in tasks like this, just entry level to understand the flow. I don't usually work with images, so if there are some mistakes, please let me know. It was a nice refresher for me, hopefully it helped someone else."
   ]
  }
 ],
 "metadata": {
  "colab": {
   "name": "digit-recognizer-colab.ipynb",
   "version": "0.3.2",
   "provenance": []
  },
  "kernelspec": {
   "name": "python3",
   "display_name": "Python 3"
  }
 },
 "nbformat": 4,
 "nbformat_minor": 0
}
