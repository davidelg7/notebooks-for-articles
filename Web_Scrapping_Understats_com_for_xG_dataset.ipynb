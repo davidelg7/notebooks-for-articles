{
  "nbformat": 4,
  "nbformat_minor": 0,
  "metadata": {
    "colab": {
      "name": "Web_Scrapping_Understats_com_for_xG_dataset.ipynb",
      "version": "0.3.2",
      "provenance": [],
      "collapsed_sections": [],
      "include_colab_link": true
    },
    "language_info": {
      "name": "python",
      "version": "3.6.4",
      "mimetype": "text/x-python",
      "codemirror_mode": {
        "name": "ipython",
        "version": 3
      },
      "pygments_lexer": "ipython3",
      "nbconvert_exporter": "python",
      "file_extension": ".py"
    },
    "kernelspec": {
      "display_name": "Python 3",
      "language": "python",
      "name": "python3"
    }
  },
  "cells": [
    {
      "cell_type": "markdown",
      "metadata": {
        "id": "view-in-github",
        "colab_type": "text"
      },
      "source": [
        "<a href=\"https://colab.research.google.com/github/slehkyi/notebooks-for-articles/blob/master/Web_Scrapping_Understats_com_for_xG_dataset.ipynb\" target=\"_parent\"><img src=\"https://colab.research.google.com/assets/colab-badge.svg\" alt=\"Open In Colab\"/></a>"
      ]
    },
    {
      "cell_type": "code",
      "metadata": {
        "_uuid": "8f2839f25d086af736a60e9eeb907d3b93b6e0e5",
        "_cell_guid": "b1076dfc-b9ad-4769-8c92-a6c4dae69d19",
        "trusted": true,
        "id": "WAoZi6Mlg121",
        "colab_type": "code",
        "colab": {}
      },
      "source": [
        "import numpy as np # linear algebra\n",
        "import pandas as pd # data processing, CSV file I/O (e.g. pd.read_csv)\n",
        "\n",
        "import os\n",
        "# print(os.listdir(\"../input\"))\n",
        "\n",
        "import requests\n",
        "from bs4 import BeautifulSoup"
      ],
      "execution_count": 0,
      "outputs": []
    },
    {
      "cell_type": "code",
      "metadata": {
        "_cell_guid": "79c7e3d0-c299-4dcb-8224-4455121ee9b0",
        "_uuid": "d629ff2d2480ee46fbb7e2d37f6b5fab8052498a",
        "trusted": true,
        "id": "5GdbwW7Tg127",
        "colab_type": "code",
        "colab": {}
      },
      "source": [
        "# create urls for all seasons of all leagues\n",
        "base_url = 'https://understat.com/league'\n",
        "league = ['La_liga', 'EPL', 'Bundesliga', 'Serie_A', 'Ligue_1']\n",
        "season = ['2014', '2015', '2016', '2017', '2018']\n",
        "\n",
        "url = base_url+'/'+league[0]+'/'+season[4]\n",
        "res = requests.get(url)\n",
        "soup = BeautifulSoup(res.content)\n",
        "\n",
        "# Based on the structure of the webpage, I found that data is in the JSON variable, under <script> tags\n",
        "scripts = soup.find_all('script')\n",
        "\n",
        "# Check our <script> tags\n",
        "# for el in scripts:\n",
        "#   print('*'*50)\n",
        "#   print(el.text)"
      ],
      "execution_count": 0,
      "outputs": []
    },
    {
      "cell_type": "code",
      "metadata": {
        "id": "rkB-izz7aTtK",
        "colab_type": "code",
        "colab": {}
      },
      "source": [
        "import json\n",
        "\n",
        "string_with_json_obj = ''\n",
        "\n",
        "# Find data for teams\n",
        "for el in scripts:\n",
        "    if 'teamsData' in el.text:\n",
        "      string_with_json_obj = el.text.strip()\n",
        "      \n",
        "# print(string_with_json_obj)\n",
        "\n",
        "# strip unnecessary symbols and get only JSON data\n",
        "ind_start = string_with_json_obj.index(\"('\")+2\n",
        "ind_end = string_with_json_obj.index(\"')\")\n",
        "json_data = string_with_json_obj[ind_start:ind_end]\n",
        "\n",
        "json_data = json_data.encode('utf8').decode('unicode_escape')"
      ],
      "execution_count": 0,
      "outputs": []
    },
    {
      "cell_type": "code",
      "metadata": {
        "id": "vTs5rZ8GG-BH",
        "colab_type": "code",
        "colab": {}
      },
      "source": [
        "# convert JSON data into Python dictionary\n",
        "data = json.loads(json_data)\n",
        "\n",
        "# Print pretty JSON data to check out what we have there\n",
        "# s = json.dumps(data, indent=4, sort_keys=True)\n",
        "# print(s)"
      ],
      "execution_count": 0,
      "outputs": []
    },
    {
      "cell_type": "code",
      "metadata": {
        "id": "2m-eSXDPHlio",
        "colab_type": "code",
        "colab": {}
      },
      "source": [
        "# Get teams and their relevant ids and put them into separate dictionary\n",
        "teams = {}\n",
        "for id in data.keys():\n",
        "  teams[id] = data[id]['title']"
      ],
      "execution_count": 0,
      "outputs": []
    },
    {
      "cell_type": "code",
      "metadata": {
        "id": "_T06_ZzQNZUO",
        "colab_type": "code",
        "outputId": "eba9f507-9bf3-457c-fead-f62254eb464d",
        "colab": {
          "base_uri": "https://localhost:8080/",
          "height": 52
        }
      },
      "source": [
        "# EDA to get a feeling of how the JSON is structured\n",
        "# Column names are all the same, so we just use first element\n",
        "columns = []\n",
        "# Check the sample of values per each column\n",
        "values = []\n",
        "for id in data.keys():\n",
        "  columns = list(data[id]['history'][0].keys())\n",
        "  values = list(data[id]['history'][0].values())\n",
        "  break\n",
        "\n",
        "print(columns)\n",
        "print(values)"
      ],
      "execution_count": 7,
      "outputs": [
        {
          "output_type": "stream",
          "text": [
            "['h_a', 'xG', 'xGA', 'npxG', 'npxGA', 'ppda', 'ppda_allowed', 'deep', 'deep_allowed', 'scored', 'missed', 'xpts', 'result', 'date', 'wins', 'draws', 'loses', 'pts', 'npxGD']\n",
            "['a', 3.34997, 2.39239, 3.34997, 1.64976, {'att': 252, 'def': 19}, {'att': 263, 'def': 20}, 12, 5, 4, 1, 1.9829999999999999, 'w', '2018-08-19 21:15:00', 1, 0, 0, 3, 1.70021]\n"
          ],
          "name": "stdout"
        }
      ]
    },
    {
      "cell_type": "code",
      "metadata": {
        "id": "dQ99jyMqOVPQ",
        "colab_type": "code",
        "outputId": "b75b99c5-b68e-4463-cdbc-7ce3d98df705",
        "colab": {
          "base_uri": "https://localhost:8080/",
          "height": 106
        }
      },
      "source": [
        "# Found that Sevilla has the id=138, so getting all the data for this team to be able to reproduce the same steps for all teams in the league.\n",
        "sevilla_data = []\n",
        "for row in data['138']['history']:\n",
        "  sevilla_data.append(list(row.values()))\n",
        "  \n",
        "df = pd.DataFrame(sevilla_data, columns=columns)\n",
        "df.head(2)"
      ],
      "execution_count": 8,
      "outputs": [
        {
          "output_type": "execute_result",
          "data": {
            "text/html": [
              "<div>\n",
              "<style scoped>\n",
              "    .dataframe tbody tr th:only-of-type {\n",
              "        vertical-align: middle;\n",
              "    }\n",
              "\n",
              "    .dataframe tbody tr th {\n",
              "        vertical-align: top;\n",
              "    }\n",
              "\n",
              "    .dataframe thead th {\n",
              "        text-align: right;\n",
              "    }\n",
              "</style>\n",
              "<table border=\"1\" class=\"dataframe\">\n",
              "  <thead>\n",
              "    <tr style=\"text-align: right;\">\n",
              "      <th></th>\n",
              "      <th>h_a</th>\n",
              "      <th>xG</th>\n",
              "      <th>xGA</th>\n",
              "      <th>npxG</th>\n",
              "      <th>npxGA</th>\n",
              "      <th>ppda</th>\n",
              "      <th>ppda_allowed</th>\n",
              "      <th>deep</th>\n",
              "      <th>deep_allowed</th>\n",
              "      <th>scored</th>\n",
              "      <th>missed</th>\n",
              "      <th>xpts</th>\n",
              "      <th>result</th>\n",
              "      <th>date</th>\n",
              "      <th>wins</th>\n",
              "      <th>draws</th>\n",
              "      <th>loses</th>\n",
              "      <th>pts</th>\n",
              "      <th>npxGD</th>\n",
              "    </tr>\n",
              "  </thead>\n",
              "  <tbody>\n",
              "    <tr>\n",
              "      <th>0</th>\n",
              "      <td>a</td>\n",
              "      <td>3.34997</td>\n",
              "      <td>2.392390</td>\n",
              "      <td>3.34997</td>\n",
              "      <td>1.649760</td>\n",
              "      <td>{'att': 252, 'def': 19}</td>\n",
              "      <td>{'att': 263, 'def': 20}</td>\n",
              "      <td>12</td>\n",
              "      <td>5</td>\n",
              "      <td>4</td>\n",
              "      <td>1</td>\n",
              "      <td>1.9830</td>\n",
              "      <td>w</td>\n",
              "      <td>2018-08-19 21:15:00</td>\n",
              "      <td>1</td>\n",
              "      <td>0</td>\n",
              "      <td>0</td>\n",
              "      <td>3</td>\n",
              "      <td>1.700210</td>\n",
              "    </tr>\n",
              "    <tr>\n",
              "      <th>1</th>\n",
              "      <td>h</td>\n",
              "      <td>1.97161</td>\n",
              "      <td>0.671429</td>\n",
              "      <td>1.97161</td>\n",
              "      <td>0.671429</td>\n",
              "      <td>{'att': 262, 'def': 16}</td>\n",
              "      <td>{'att': 237, 'def': 26}</td>\n",
              "      <td>11</td>\n",
              "      <td>3</td>\n",
              "      <td>0</td>\n",
              "      <td>0</td>\n",
              "      <td>2.3331</td>\n",
              "      <td>d</td>\n",
              "      <td>2018-08-26 21:15:00</td>\n",
              "      <td>0</td>\n",
              "      <td>1</td>\n",
              "      <td>0</td>\n",
              "      <td>1</td>\n",
              "      <td>1.300181</td>\n",
              "    </tr>\n",
              "  </tbody>\n",
              "</table>\n",
              "</div>"
            ],
            "text/plain": [
              "  h_a       xG       xGA     npxG     npxGA  ... wins draws  loses  pts     npxGD\n",
              "0   a  3.34997  2.392390  3.34997  1.649760  ...    1     0      0    3  1.700210\n",
              "1   h  1.97161  0.671429  1.97161  0.671429  ...    0     1      0    1  1.300181\n",
              "\n",
              "[2 rows x 19 columns]"
            ]
          },
          "metadata": {
            "tags": []
          },
          "execution_count": 8
        }
      ]
    },
    {
      "cell_type": "code",
      "metadata": {
        "id": "Ea8kpU2kspBO",
        "colab_type": "code",
        "outputId": "ec56d787-59b1-45d2-bae9-5f44d2ef7dc0",
        "colab": {
          "base_uri": "https://localhost:8080/",
          "height": 369
        }
      },
      "source": [
        "# Getting data for all teams\n",
        "dataframes = {}\n",
        "for id, team in teams.items():\n",
        "  teams_data = []\n",
        "  for row in data[id]['history']:\n",
        "    teams_data.append(list(row.values()))\n",
        "    \n",
        "  df = pd.DataFrame(teams_data, columns=columns)\n",
        "  dataframes[team] = df\n",
        "  print('Added data for {}.'.format(team))\n",
        "  "
      ],
      "execution_count": 9,
      "outputs": [
        {
          "output_type": "stream",
          "text": [
            "Added data for Sevilla.\n",
            "Added data for Real Sociedad.\n",
            "Added data for Espanyol.\n",
            "Added data for Getafe.\n",
            "Added data for Atletico Madrid.\n",
            "Added data for Rayo Vallecano.\n",
            "Added data for Valencia.\n",
            "Added data for Athletic Club.\n",
            "Added data for Barcelona.\n",
            "Added data for Real Madrid.\n",
            "Added data for Levante.\n",
            "Added data for Celta Vigo.\n",
            "Added data for Real Betis.\n",
            "Added data for Villarreal.\n",
            "Added data for Eibar.\n",
            "Added data for Alaves.\n",
            "Added data for Leganes.\n",
            "Added data for Girona.\n",
            "Added data for Real Valladolid.\n",
            "Added data for SD Huesca.\n"
          ],
          "name": "stdout"
        }
      ]
    },
    {
      "cell_type": "code",
      "metadata": {
        "id": "QVV7KQ1xtS53",
        "colab_type": "code",
        "outputId": "71e84acd-e942-4a1e-be07-d43da9d0d324",
        "colab": {
          "base_uri": "https://localhost:8080/",
          "height": 106
        }
      },
      "source": [
        "# Sample check of our newly created DataFrame\n",
        "dataframes['Barcelona'].head(2)"
      ],
      "execution_count": 10,
      "outputs": [
        {
          "output_type": "execute_result",
          "data": {
            "text/html": [
              "<div>\n",
              "<style scoped>\n",
              "    .dataframe tbody tr th:only-of-type {\n",
              "        vertical-align: middle;\n",
              "    }\n",
              "\n",
              "    .dataframe tbody tr th {\n",
              "        vertical-align: top;\n",
              "    }\n",
              "\n",
              "    .dataframe thead th {\n",
              "        text-align: right;\n",
              "    }\n",
              "</style>\n",
              "<table border=\"1\" class=\"dataframe\">\n",
              "  <thead>\n",
              "    <tr style=\"text-align: right;\">\n",
              "      <th></th>\n",
              "      <th>h_a</th>\n",
              "      <th>xG</th>\n",
              "      <th>xGA</th>\n",
              "      <th>npxG</th>\n",
              "      <th>npxGA</th>\n",
              "      <th>ppda</th>\n",
              "      <th>ppda_allowed</th>\n",
              "      <th>deep</th>\n",
              "      <th>deep_allowed</th>\n",
              "      <th>scored</th>\n",
              "      <th>missed</th>\n",
              "      <th>xpts</th>\n",
              "      <th>result</th>\n",
              "      <th>date</th>\n",
              "      <th>wins</th>\n",
              "      <th>draws</th>\n",
              "      <th>loses</th>\n",
              "      <th>pts</th>\n",
              "      <th>npxGD</th>\n",
              "    </tr>\n",
              "  </thead>\n",
              "  <tbody>\n",
              "    <tr>\n",
              "      <th>0</th>\n",
              "      <td>h</td>\n",
              "      <td>3.26753</td>\n",
              "      <td>0.248353</td>\n",
              "      <td>3.26753</td>\n",
              "      <td>0.248353</td>\n",
              "      <td>{'att': 118, 'def': 17}</td>\n",
              "      <td>{'att': 407, 'def': 13}</td>\n",
              "      <td>20</td>\n",
              "      <td>0</td>\n",
              "      <td>3</td>\n",
              "      <td>0</td>\n",
              "      <td>2.9009</td>\n",
              "      <td>w</td>\n",
              "      <td>2018-08-18 23:15:00</td>\n",
              "      <td>1</td>\n",
              "      <td>0</td>\n",
              "      <td>0</td>\n",
              "      <td>3</td>\n",
              "      <td>3.019177</td>\n",
              "    </tr>\n",
              "    <tr>\n",
              "      <th>1</th>\n",
              "      <td>a</td>\n",
              "      <td>1.20392</td>\n",
              "      <td>0.510742</td>\n",
              "      <td>1.20392</td>\n",
              "      <td>0.510742</td>\n",
              "      <td>{'att': 163, 'def': 16}</td>\n",
              "      <td>{'att': 316, 'def': 15}</td>\n",
              "      <td>15</td>\n",
              "      <td>4</td>\n",
              "      <td>1</td>\n",
              "      <td>0</td>\n",
              "      <td>1.9865</td>\n",
              "      <td>w</td>\n",
              "      <td>2018-08-25 23:15:00</td>\n",
              "      <td>1</td>\n",
              "      <td>0</td>\n",
              "      <td>0</td>\n",
              "      <td>3</td>\n",
              "      <td>0.693178</td>\n",
              "    </tr>\n",
              "  </tbody>\n",
              "</table>\n",
              "</div>"
            ],
            "text/plain": [
              "  h_a       xG       xGA     npxG     npxGA  ... wins draws  loses  pts     npxGD\n",
              "0   h  3.26753  0.248353  3.26753  0.248353  ...    1     0      0    3  3.019177\n",
              "1   a  1.20392  0.510742  1.20392  0.510742  ...    1     0      0    3  0.693178\n",
              "\n",
              "[2 rows x 19 columns]"
            ]
          },
          "metadata": {
            "tags": []
          },
          "execution_count": 10
        }
      ]
    },
    {
      "cell_type": "code",
      "metadata": {
        "id": "5rp4BFQYUNsJ",
        "colab_type": "code",
        "colab": {
          "base_uri": "https://localhost:8080/",
          "height": 703
        },
        "outputId": "13e72a0a-7b92-4bd1-c4c1-8e9203aaada0"
      },
      "source": [
        "s = dataframes['Barcelona']['ppda'].apply(lambda x: x['att']/x['def'])\n",
        "s"
      ],
      "execution_count": 40,
      "outputs": [
        {
          "output_type": "execute_result",
          "data": {
            "text/plain": [
              "0      6.941176\n",
              "1     10.187500\n",
              "2      9.150000\n",
              "3      9.909091\n",
              "4     10.714286\n",
              "5      4.500000\n",
              "6      5.080000\n",
              "7      9.823529\n",
              "8     10.714286\n",
              "9     11.769231\n",
              "10     5.366667\n",
              "11     6.578947\n",
              "12     6.909091\n",
              "13    11.173913\n",
              "14     9.480000\n",
              "15     7.148148\n",
              "16     9.400000\n",
              "17     5.117647\n",
              "18     8.944444\n",
              "19     6.320000\n",
              "20     9.894737\n",
              "21    12.875000\n",
              "22    11.812500\n",
              "23     9.600000\n",
              "24    13.500000\n",
              "25    12.736842\n",
              "26     4.837838\n",
              "27    13.961538\n",
              "28     5.137931\n",
              "29     8.333333\n",
              "30     6.393939\n",
              "31     3.296296\n",
              "32    11.033333\n",
              "33     4.636364\n",
              "34     6.677419\n",
              "35    13.714286\n",
              "36     6.285714\n",
              "37    22.625000\n",
              "Name: ppda, dtype: float64"
            ]
          },
          "metadata": {
            "tags": []
          },
          "execution_count": 40
        }
      ]
    },
    {
      "cell_type": "code",
      "metadata": {
        "id": "jKIs5btTK83S",
        "colab_type": "code",
        "colab": {
          "base_uri": "https://localhost:8080/",
          "height": 70
        },
        "outputId": "db261582-bf4d-4c45-b4cc-123f19d162b5"
      },
      "source": [
        "cols_to_sum = ['xG', 'xGA', 'npxG', 'npxGA', 'deep', 'deep_allowed', 'scored', 'missed', 'xpts', 'wins', 'draws', 'loses', 'pts', 'npxGD']"
      ],
      "execution_count": 16,
      "outputs": [
        {
          "output_type": "execute_result",
          "data": {
            "text/plain": [
              "xG     83.279534\n",
              "xGA    44.930950\n",
              "dtype: float64"
            ]
          },
          "metadata": {
            "tags": []
          },
          "execution_count": 16
        }
      ]
    }
  ]
}